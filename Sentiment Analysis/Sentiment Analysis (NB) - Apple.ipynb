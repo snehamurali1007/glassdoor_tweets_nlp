{
 "cells": [
  {
   "cell_type": "code",
   "execution_count": 1,
   "id": "5f0c1379",
   "metadata": {},
   "outputs": [],
   "source": [
    "#Import Necessary Modules\n",
    "import nltk\n",
    "import gensim\n",
    "import pandas as pd\n",
    "import re\n",
    "import pickle\n",
    "from nltk.tokenize import word_tokenize\n",
    "from nltk.probability import FreqDist\n",
    "from nltk.classify import NaiveBayesClassifier\n",
    "from emot.emo_unicode import UNICODE_EMOJI # For emojis\n",
    "from emot.emo_unicode import EMOTICONS_EMO # For EMOTICONS"
   ]
  },
  {
   "cell_type": "code",
   "execution_count": 2,
   "id": "6a197e4e",
   "metadata": {},
   "outputs": [
    {
     "data": {
      "text/html": [
       "<div>\n",
       "<style scoped>\n",
       "    .dataframe tbody tr th:only-of-type {\n",
       "        vertical-align: middle;\n",
       "    }\n",
       "\n",
       "    .dataframe tbody tr th {\n",
       "        vertical-align: top;\n",
       "    }\n",
       "\n",
       "    .dataframe thead th {\n",
       "        text-align: right;\n",
       "    }\n",
       "</style>\n",
       "<table border=\"1\" class=\"dataframe\">\n",
       "  <thead>\n",
       "    <tr style=\"text-align: right;\">\n",
       "      <th></th>\n",
       "      <th>Datetime</th>\n",
       "      <th>Text</th>\n",
       "      <th>Username</th>\n",
       "    </tr>\n",
       "  </thead>\n",
       "  <tbody>\n",
       "    <tr>\n",
       "      <th>0</th>\n",
       "      <td>Dec-2022</td>\n",
       "      <td>@dhoroiloh does this work with red apples</td>\n",
       "      <td>killizerk</td>\n",
       "    </tr>\n",
       "    <tr>\n",
       "      <th>1</th>\n",
       "      <td>Dec-2022</td>\n",
       "      <td>@Nothennyfr Buy Apple stock</td>\n",
       "      <td>Tone_Fusion</td>\n",
       "    </tr>\n",
       "    <tr>\n",
       "      <th>2</th>\n",
       "      <td>Dec-2022</td>\n",
       "      <td>@Nothennyfr Buy Apple Stock</td>\n",
       "      <td>benedictm</td>\n",
       "    </tr>\n",
       "    <tr>\n",
       "      <th>3</th>\n",
       "      <td>Dec-2022</td>\n",
       "      <td>Bro I just wanted my pickle and chocolate cove...</td>\n",
       "      <td>BreskiDaDon</td>\n",
       "    </tr>\n",
       "    <tr>\n",
       "      <th>4</th>\n",
       "      <td>Dec-2022</td>\n",
       "      <td>4. BLACK BIRD\\n\\nA complex crime drama that ne...</td>\n",
       "      <td>howatdk</td>\n",
       "    </tr>\n",
       "  </tbody>\n",
       "</table>\n",
       "</div>"
      ],
      "text/plain": [
       "   Datetime                                               Text     Username\n",
       "0  Dec-2022          @dhoroiloh does this work with red apples    killizerk\n",
       "1  Dec-2022                        @Nothennyfr Buy Apple stock  Tone_Fusion\n",
       "2  Dec-2022                        @Nothennyfr Buy Apple Stock    benedictm\n",
       "3  Dec-2022  Bro I just wanted my pickle and chocolate cove...  BreskiDaDon\n",
       "4  Dec-2022  4. BLACK BIRD\\n\\nA complex crime drama that ne...      howatdk"
      ]
     },
     "execution_count": 2,
     "metadata": {},
     "output_type": "execute_result"
    }
   ],
   "source": [
    "#Load Dataset\n",
    "Apple_df = pd.read_csv('Dataset/Companies/apple.csv')\n",
    "Apple_df.head()"
   ]
  },
  {
   "cell_type": "code",
   "execution_count": 3,
   "id": "fd7320dc",
   "metadata": {},
   "outputs": [
    {
     "name": "stdout",
     "output_type": "stream",
     "text": [
      "<class 'pandas.core.frame.DataFrame'>\n",
      "RangeIndex: 2982 entries, 0 to 2981\n",
      "Data columns (total 3 columns):\n",
      " #   Column    Non-Null Count  Dtype \n",
      "---  ------    --------------  ----- \n",
      " 0   Datetime  2982 non-null   object\n",
      " 1   Text      2982 non-null   object\n",
      " 2   Username  2982 non-null   object\n",
      "dtypes: object(3)\n",
      "memory usage: 70.0+ KB\n"
     ]
    }
   ],
   "source": [
    "Apple_df.info()"
   ]
  },
  {
   "cell_type": "code",
   "execution_count": 4,
   "id": "4e4176e9",
   "metadata": {},
   "outputs": [
    {
     "name": "stdout",
     "output_type": "stream",
     "text": [
      "<class 'pandas.core.frame.DataFrame'>\n",
      "Int64Index: 2972 entries, 0 to 2981\n",
      "Data columns (total 3 columns):\n",
      " #   Column    Non-Null Count  Dtype \n",
      "---  ------    --------------  ----- \n",
      " 0   Datetime  2972 non-null   object\n",
      " 1   Text      2972 non-null   object\n",
      " 2   Username  2972 non-null   object\n",
      "dtypes: object(3)\n",
      "memory usage: 92.9+ KB\n"
     ]
    }
   ],
   "source": [
    "#Drop Duplicate Rows\n",
    "Apple_df = Apple_df.drop_duplicates()\n",
    "Apple_df.info()"
   ]
  },
  {
   "cell_type": "code",
   "execution_count": 5,
   "id": "a386227a",
   "metadata": {},
   "outputs": [],
   "source": [
    "#Filter Data by Different Time Periods\n",
    "Apple_Dec22 = Apple_df[Apple_df['Datetime'] == 'Dec-2022']\n",
    "Apple_Jan23 = Apple_df[Apple_df['Datetime'] == 'Jan-2023']\n",
    "Apple_Feb23 = Apple_df[Apple_df['Datetime'] == 'Feb-2023']"
   ]
  },
  {
   "cell_type": "markdown",
   "id": "bae24527",
   "metadata": {},
   "source": [
    "# Tweets PreProcessing"
   ]
  },
  {
   "cell_type": "code",
   "execution_count": 6,
   "id": "be9a557e",
   "metadata": {},
   "outputs": [],
   "source": [
    "#Remove URLs\n",
    "Apple_Dec22 = Apple_Dec22['Text'].apply(lambda x: re.sub(r'https?:\\/\\/\\S+', '', x))\n",
    "Apple_Jan23 = Apple_Jan23['Text'].apply(lambda x: re.sub(r'https?:\\/\\/\\S+', '', x))\n",
    "Apple_Feb23 = Apple_Feb23['Text'].apply(lambda x: re.sub(r'https?:\\/\\/\\S+', '', x))"
   ]
  },
  {
   "cell_type": "code",
   "execution_count": 7,
   "id": "1c8e76a7",
   "metadata": {},
   "outputs": [],
   "source": [
    "#Remove HTML Reference Characters\n",
    "Apple_Dec22 = Apple_Dec22.apply(lambda x: re.sub(r'&[a-z]+;', '', x))\n",
    "Apple_Jan23 = Apple_Jan23.apply(lambda x: re.sub(r'&[a-z]+;', '', x))\n",
    "Apple_Feb23 = Apple_Feb23.apply(lambda x: re.sub(r'&[a-z]+;', '', x))"
   ]
  },
  {
   "cell_type": "code",
   "execution_count": 8,
   "id": "bec86e88",
   "metadata": {},
   "outputs": [],
   "source": [
    "#Remove Twitter Handles\n",
    "Apple_Dec22 = Apple_Dec22.apply(lambda x: re.sub(r'@[^ ]+', '', x))\n",
    "Apple_Jan23 = Apple_Jan23.apply(lambda x: re.sub(r'@[^ ]+', '', x))\n",
    "Apple_Feb23 = Apple_Feb23.apply(lambda x: re.sub(r'@[^ ]+', '', x))"
   ]
  },
  {
   "cell_type": "code",
   "execution_count": 9,
   "id": "b4ff7cc1",
   "metadata": {},
   "outputs": [],
   "source": [
    "#Replace Emojis with Words\n",
    "with open('Libraries/Emoji_Dict.p', 'rb') as fp:\n",
    "    Emoji_Dict = pickle.load(fp)\n",
    "Emoji_Dict = {v: k for k, v in Emoji_Dict.items()}\n",
    "\n",
    "def convert_emojis_to_word(text):\n",
    "    for emot in Emoji_Dict:\n",
    "        text = re.sub(r'('+emot+')', \"_\".join(Emoji_Dict[emot].replace(\",\",\"\").replace(\":\",\"\").split()), text)\n",
    "    return text\n",
    "\n",
    "Apple_Dec22 = Apple_Dec22.apply(convert_emojis_to_word)\n",
    "Apple_Jan23 = Apple_Jan23.apply(convert_emojis_to_word)\n",
    "Apple_Feb23 = Apple_Feb23.apply(convert_emojis_to_word)"
   ]
  },
  {
   "cell_type": "code",
   "execution_count": 10,
   "id": "91332b88",
   "metadata": {},
   "outputs": [],
   "source": [
    "#Replace EMOTICONS with Words\n",
    "with open('Libraries/Emoticon_Dict.p', 'rb') as fp:\n",
    "    Emoticon_Dict = pickle.load(fp)\n",
    "\n",
    "def convert_emoticons(text):\n",
    "    for emot in Emoticon_Dict:\n",
    "        text = re.sub(u'('+emot+')', \"_\".join(Emoticon_Dict[emot].replace(\",\",\"\").split()), text)\n",
    "    return text\n",
    "\n",
    "Apple_Dec22 = Apple_Dec22.apply(convert_emoticons)\n",
    "Apple_Jan23 = Apple_Jan23.apply(convert_emoticons)\n",
    "Apple_Feb23 = Apple_Feb23.apply(convert_emoticons)"
   ]
  },
  {
   "cell_type": "markdown",
   "id": "bec95f23",
   "metadata": {},
   "source": [
    "# Training Dataset PreProcessing"
   ]
  },
  {
   "cell_type": "code",
   "execution_count": 11,
   "id": "f4b3bcf9",
   "metadata": {},
   "outputs": [],
   "source": [
    "#Load Training Dataset\n",
    "training_dataset = pd.read_csv('Dataset/Training/labelled_dataset.csv', encoding='latin-1')\n",
    "\n",
    "#Remove URLs\n",
    "training_dataset = training_dataset['Text'].apply(lambda x: re.sub(r'https?:\\/\\/\\S+', '', x))\n",
    "\n",
    "#Remove HTML Reference Characters\n",
    "training_dataset = training_dataset.apply(lambda x: re.sub(r'&[a-z]+;', '', x))\n",
    "\n",
    "#Remove Twitter Handles\n",
    "training_dataset = training_dataset.apply(lambda x: re.sub(r'@[^ ]+', '', x))\n",
    "\n",
    "#Replace Emojis with Words\n",
    "with open('Libraries/Emoji_Dict.p', 'rb') as fp:\n",
    "    Emoji_Dict = pickle.load(fp)\n",
    "Emoji_Dict = {v: k for k, v in Emoji_Dict.items()}\n",
    "\n",
    "def convert_emojis_to_word(text):\n",
    "    for emot in Emoji_Dict:\n",
    "        text = re.sub(r'('+emot+')', \"_\".join(Emoji_Dict[emot].replace(\",\",\"\").replace(\":\",\"\").split()), text)\n",
    "    return text\n",
    "\n",
    "training_dataset = training_dataset.apply(convert_emojis_to_word)\n",
    "\n",
    "#Replace EMOTICONS with Words\n",
    "with open('Libraries/Emoticon_Dict.p', 'rb') as fp:\n",
    "    Emoticon_Dict = pickle.load(fp)\n",
    "\n",
    "def convert_emoticons(text):\n",
    "    for emot in Emoticon_Dict:\n",
    "        text = re.sub(u'('+emot+')', \"_\".join(Emoticon_Dict[emot].replace(\",\",\"\").split()), text)\n",
    "    return text\n",
    "\n",
    "training_dataset = training_dataset.apply(convert_emoticons)\n",
    "\n",
    "#Export PreProcessed Dataset\n",
    "training_dataset.to_csv('Dataset/Training/training_dataset.csv')"
   ]
  },
  {
   "cell_type": "code",
   "execution_count": 12,
   "id": "7fc73f96",
   "metadata": {},
   "outputs": [
    {
     "data": {
      "text/html": [
       "<div>\n",
       "<style scoped>\n",
       "    .dataframe tbody tr th:only-of-type {\n",
       "        vertical-align: middle;\n",
       "    }\n",
       "\n",
       "    .dataframe tbody tr th {\n",
       "        vertical-align: top;\n",
       "    }\n",
       "\n",
       "    .dataframe thead th {\n",
       "        text-align: right;\n",
       "    }\n",
       "</style>\n",
       "<table border=\"1\" class=\"dataframe\">\n",
       "  <thead>\n",
       "    <tr style=\"text-align: right;\">\n",
       "      <th></th>\n",
       "      <th>Unnamed: 0</th>\n",
       "      <th>Text</th>\n",
       "      <th>Label</th>\n",
       "    </tr>\n",
       "  </thead>\n",
       "  <tbody>\n",
       "    <tr>\n",
       "      <th>0</th>\n",
       "      <td>0</td>\n",
       "      <td>Mr Brody, this is the Internet community, ful...</td>\n",
       "      <td>pos</td>\n",
       "    </tr>\n",
       "    <tr>\n",
       "      <th>1</th>\n",
       "      <td>1</td>\n",
       "      <td>. Infrastructure grew 125% in India in the fir...</td>\n",
       "      <td>pos</td>\n",
       "    </tr>\n",
       "    <tr>\n",
       "      <th>2</th>\n",
       "      <td>2</td>\n",
       "      <td>Labor board decision could force Google to neg...</td>\n",
       "      <td>neg</td>\n",
       "    </tr>\n",
       "    <tr>\n",
       "      <th>3</th>\n",
       "      <td>3</td>\n",
       "      <td>Precisely. Equally and alternatively, is the...</td>\n",
       "      <td>neg</td>\n",
       "    </tr>\n",
       "    <tr>\n",
       "      <th>4</th>\n",
       "      <td>4</td>\n",
       "      <td>I clock that tea yesterday cardi was listenin...</td>\n",
       "      <td>neg</td>\n",
       "    </tr>\n",
       "  </tbody>\n",
       "</table>\n",
       "</div>"
      ],
      "text/plain": [
       "   Unnamed: 0                                               Text Label\n",
       "0           0   Mr Brody, this is the Internet community, ful...   pos\n",
       "1           1  . Infrastructure grew 125% in India in the fir...   pos\n",
       "2           2  Labor board decision could force Google to neg...   neg\n",
       "3           3    Precisely. Equally and alternatively, is the...   neg\n",
       "4           4   I clock that tea yesterday cardi was listenin...   neg"
      ]
     },
     "execution_count": 12,
     "metadata": {},
     "output_type": "execute_result"
    }
   ],
   "source": [
    "#Load Training Dataset\n",
    "training_dataset = pd.read_csv('Dataset/Training/training_dataset.csv', encoding='latin-1')\n",
    "training_dataset.head()"
   ]
  },
  {
   "cell_type": "code",
   "execution_count": 13,
   "id": "f720758d",
   "metadata": {},
   "outputs": [
    {
     "name": "stdout",
     "output_type": "stream",
     "text": [
      "<class 'pandas.core.frame.DataFrame'>\n",
      "RangeIndex: 301 entries, 0 to 300\n",
      "Data columns (total 3 columns):\n",
      " #   Column      Non-Null Count  Dtype \n",
      "---  ------      --------------  ----- \n",
      " 0   Unnamed: 0  301 non-null    int64 \n",
      " 1   Text        301 non-null    object\n",
      " 2   Label       301 non-null    object\n",
      "dtypes: int64(1), object(2)\n",
      "memory usage: 7.2+ KB\n"
     ]
    }
   ],
   "source": [
    "training_dataset.info()"
   ]
  },
  {
   "cell_type": "code",
   "execution_count": 14,
   "id": "398c765c",
   "metadata": {},
   "outputs": [
    {
     "name": "stdout",
     "output_type": "stream",
     "text": [
      "<class 'pandas.core.frame.DataFrame'>\n",
      "Int64Index: 301 entries, 0 to 300\n",
      "Data columns (total 3 columns):\n",
      " #   Column      Non-Null Count  Dtype \n",
      "---  ------      --------------  ----- \n",
      " 0   Unnamed: 0  301 non-null    int64 \n",
      " 1   Text        301 non-null    object\n",
      " 2   Label       301 non-null    object\n",
      "dtypes: int64(1), object(2)\n",
      "memory usage: 9.4+ KB\n"
     ]
    }
   ],
   "source": [
    "#Drop Duplicate Rows\n",
    "training_dataset = training_dataset.drop_duplicates()\n",
    "training_dataset.info()"
   ]
  },
  {
   "cell_type": "markdown",
   "id": "c1426c05",
   "metadata": {},
   "source": [
    "# Perform Naive Bayes Classification"
   ]
  },
  {
   "cell_type": "code",
   "execution_count": 15,
   "id": "f0118c02",
   "metadata": {},
   "outputs": [],
   "source": [
    "#Create Training Data\n",
    "train_text = []\n",
    "for index,row in training_dataset.iterrows():\n",
    "    train_text.append((row['Text'], row['Label']))\n",
    "\n",
    "#Feature Extraction Function\n",
    "def extract_features(text):\n",
    "    words = word_tokenize(text)\n",
    "    return dict((word, True) for word in words)\n",
    "\n",
    "#Create Feature Sets from Training Data\n",
    "train_features = [(extract_features(text), label) for (text, label) in train_text]\n",
    "\n",
    "#Train the Classifier\n",
    "classifier = NaiveBayesClassifier.train(train_features)\n",
    "\n",
    "#For Apple December 2022\n",
    "test_df1 = Apple_Dec22.to_frame()\n",
    "for index,row in test_df1.iterrows():\n",
    "    test_features = extract_features(row['Text'])\n",
    "    predicted_label = classifier.classify(test_features)\n",
    "    test_df1.at[index,'sentiment'] = predicted_label\n",
    "    \n",
    "#For Apple January 2023\n",
    "test_df2 = Apple_Jan23.to_frame()\n",
    "for index,row in test_df2.iterrows():\n",
    "    test_features = extract_features(row['Text'])\n",
    "    predicted_label = classifier.classify(test_features)\n",
    "    test_df2.at[index,'sentiment'] = predicted_label\n",
    "    \n",
    "#For Apple Februrary 2023\n",
    "test_df3 = Apple_Feb23.to_frame()\n",
    "for index,row in test_df3.iterrows():\n",
    "    test_features = extract_features(row['Text'])\n",
    "    predicted_label = classifier.classify(test_features)\n",
    "    test_df3.at[index,'sentiment'] = predicted_label\n",
    "\n",
    "#Export Sentiments Predicted Dataset\n",
    "test_df1.to_csv(\"Dataset/Sentiments Predicted/AppleDec22_Sentiments.csv\")\n",
    "test_df2.to_csv(\"Dataset/Sentiments Predicted/AppleJan23_Sentiments.csv\")\n",
    "test_df3.to_csv(\"Dataset/Sentiments Predicted/AppleFeb23_Sentiments.csv\")"
   ]
  },
  {
   "cell_type": "markdown",
   "id": "4f126780",
   "metadata": {},
   "source": [
    "# Analysis of Output"
   ]
  },
  {
   "cell_type": "code",
   "execution_count": 16,
   "id": "91c44d2f",
   "metadata": {},
   "outputs": [
    {
     "name": "stdout",
     "output_type": "stream",
     "text": [
      "Apple December 2022\n",
      "Positive Labels: 0.3259109311740891\n",
      "Negative Labels: 0.604251012145749\n",
      "Neutral Labels: 0.06983805668016195\n",
      "--------------------\n",
      "Apple January 2023\n",
      "Positive Labels: 0.3474320241691843\n",
      "Negative Labels: 0.5800604229607251\n",
      "Neutral Labels: 0.07250755287009064\n",
      "--------------------\n",
      "Apple February 2023\n",
      "Positive Labels: 0.33097880928355194\n",
      "Negative Labels: 0.6316851664984864\n",
      "Neutral Labels: 0.03733602421796166\n"
     ]
    }
   ],
   "source": [
    "#Load Dataset\n",
    "Apple_Dec22 = pd.read_csv(\"Dataset/Sentiments Predicted/AppleDec22_Sentiments.csv\", encoding='latin-1')\n",
    "Apple_Jan23 = pd.read_csv(\"Dataset/Sentiments Predicted/AppleJan23_Sentiments.csv\", encoding='latin-1')\n",
    "Apple_Feb23 = pd.read_csv(\"Dataset/Sentiments Predicted/AppleFeb23_Sentiments.csv\", encoding='latin-1')\n",
    "\n",
    "#Used to Store the Labels & Total Number of Tweets\n",
    "labels_Apple_Dec22 = []\n",
    "count_Apple_Dec22 = 0\n",
    "labels_Apple_Jan23 = []\n",
    "count_Apple_Jan23 = 0\n",
    "labels_Apple_Feb23 = []\n",
    "count_Apple_Feb23 = 0\n",
    "\n",
    "#For Apple December 2022\n",
    "for index,row in Apple_Dec22.iterrows():\n",
    "    labels_Apple_Dec22.append(row['sentiment'])\n",
    "    count_Apple_Dec22 += 1\n",
    "\n",
    "#Count the Number of Positive, Negative and Neutral Labels\n",
    "num_positives = labels_Apple_Dec22.count('pos')\n",
    "num_negatives = labels_Apple_Dec22.count('neg')\n",
    "num_neutral = labels_Apple_Dec22.count('neu')\n",
    "\n",
    "#Print the Results\n",
    "print('Apple December 2022')\n",
    "print('Positive Labels:', num_positives/count_Apple_Dec22)\n",
    "print('Negative Labels:', num_negatives/count_Apple_Dec22)\n",
    "print('Neutral Labels:', num_neutral/count_Apple_Dec22)\n",
    "\n",
    "\n",
    "#For Apple January 2023\n",
    "for index,row in Apple_Jan23.iterrows():\n",
    "    labels_Apple_Jan23.append(row['sentiment'])\n",
    "    count_Apple_Jan23 += 1\n",
    "\n",
    "#Count the Number of Positive, Negative and Neutral Labels\n",
    "num_positives = labels_Apple_Jan23.count('pos')\n",
    "num_negatives = labels_Apple_Jan23.count('neg')\n",
    "num_neutral = labels_Apple_Jan23.count('neu')\n",
    "\n",
    "#Print the Results\n",
    "print('--------------------')\n",
    "print('Apple January 2023')\n",
    "print('Positive Labels:', num_positives/count_Apple_Jan23)\n",
    "print('Negative Labels:', num_negatives/count_Apple_Jan23)\n",
    "print('Neutral Labels:', num_neutral/count_Apple_Jan23)\n",
    "\n",
    "#For Apple February 2023\n",
    "for index,row in Apple_Feb23.iterrows():\n",
    "    labels_Apple_Feb23.append(row['sentiment'])\n",
    "    count_Apple_Feb23 += 1\n",
    "\n",
    "#Count the Number of Positive, Negative and Neutral Labels\n",
    "num_positives = labels_Apple_Feb23.count('pos')\n",
    "num_negatives = labels_Apple_Feb23.count('neg')\n",
    "num_neutral = labels_Apple_Feb23.count('neu')\n",
    "\n",
    "#Print the Results\n",
    "print('--------------------')\n",
    "print('Apple February 2023')\n",
    "print('Positive Labels:', num_positives/count_Apple_Feb23)\n",
    "print('Negative Labels:', num_negatives/count_Apple_Feb23)\n",
    "print('Neutral Labels:', num_neutral/count_Apple_Feb23)"
   ]
  }
 ],
 "metadata": {
  "kernelspec": {
   "display_name": "Python 3 (ipykernel)",
   "language": "python",
   "name": "python3"
  },
  "language_info": {
   "codemirror_mode": {
    "name": "ipython",
    "version": 3
   },
   "file_extension": ".py",
   "mimetype": "text/x-python",
   "name": "python",
   "nbconvert_exporter": "python",
   "pygments_lexer": "ipython3",
   "version": "3.9.13"
  }
 },
 "nbformat": 4,
 "nbformat_minor": 5
}
