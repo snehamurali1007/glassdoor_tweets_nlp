{
 "cells": [
  {
   "cell_type": "code",
   "execution_count": 1,
   "metadata": {},
   "outputs": [],
   "source": [
    "import pandas as pd\n",
    "import re\n",
    "import pickle"
   ]
  },
  {
   "cell_type": "markdown",
   "metadata": {},
   "source": [
    "# microsoft"
   ]
  },
  {
   "cell_type": "code",
   "execution_count": 2,
   "metadata": {},
   "outputs": [
    {
     "data": {
      "text/html": [
       "<div>\n",
       "<style scoped>\n",
       "    .dataframe tbody tr th:only-of-type {\n",
       "        vertical-align: middle;\n",
       "    }\n",
       "\n",
       "    .dataframe tbody tr th {\n",
       "        vertical-align: top;\n",
       "    }\n",
       "\n",
       "    .dataframe thead th {\n",
       "        text-align: right;\n",
       "    }\n",
       "</style>\n",
       "<table border=\"1\" class=\"dataframe\">\n",
       "  <thead>\n",
       "    <tr style=\"text-align: right;\">\n",
       "      <th></th>\n",
       "      <th>Datetime</th>\n",
       "      <th>Text</th>\n",
       "      <th>Username</th>\n",
       "    </tr>\n",
       "  </thead>\n",
       "  <tbody>\n",
       "    <tr>\n",
       "      <th>0</th>\n",
       "      <td>Dec-2022</td>\n",
       "      <td>SOCIALIZED MEDIA: HUNDREDS OF ISRAEL’S UNIT 82...</td>\n",
       "      <td>Tibou33969029</td>\n",
       "    </tr>\n",
       "    <tr>\n",
       "      <th>1</th>\n",
       "      <td>Dec-2022</td>\n",
       "      <td>RT HuffPostWomen: The Microsoft mogul gave $5 ...</td>\n",
       "      <td>GrowGirlathon</td>\n",
       "    </tr>\n",
       "    <tr>\n",
       "      <th>2</th>\n",
       "      <td>Dec-2022</td>\n",
       "      <td>The Microsoft mogul gave $5 billion to the Bil...</td>\n",
       "      <td>LinusAlso</td>\n",
       "    </tr>\n",
       "    <tr>\n",
       "      <th>3</th>\n",
       "      <td>Dec-2022</td>\n",
       "      <td>Microsoft SQL/C Developer at RBC\\nCome Work wi...</td>\n",
       "      <td>zobjobsCA</td>\n",
       "    </tr>\n",
       "    <tr>\n",
       "      <th>4</th>\n",
       "      <td>Dec-2022</td>\n",
       "      <td>Large NYC taxi fleet looking to hire a SECRETA...</td>\n",
       "      <td>radio_rusrek</td>\n",
       "    </tr>\n",
       "    <tr>\n",
       "      <th>5</th>\n",
       "      <td>Dec-2022</td>\n",
       "      <td>Large NYC taxi fleet looking to hire a SECRETA...</td>\n",
       "      <td>rusrek_news</td>\n",
       "    </tr>\n",
       "    <tr>\n",
       "      <th>6</th>\n",
       "      <td>Dec-2022</td>\n",
       "      <td>@TolandsJournal @destinytrack Yes but Microsof...</td>\n",
       "      <td>Waluigisbae</td>\n",
       "    </tr>\n",
       "    <tr>\n",
       "      <th>7</th>\n",
       "      <td>Dec-2022</td>\n",
       "      <td>Interesting read on hybrid work - we need to l...</td>\n",
       "      <td>janemackarell</td>\n",
       "    </tr>\n",
       "    <tr>\n",
       "      <th>8</th>\n",
       "      <td>Dec-2022</td>\n",
       "      <td>@Z_is_real_2402 i will now work offline. you n...</td>\n",
       "      <td>brainyfox_noob</td>\n",
       "    </tr>\n",
       "    <tr>\n",
       "      <th>9</th>\n",
       "      <td>Dec-2022</td>\n",
       "      <td>what the heck microsoft. RD client 8 is no mor...</td>\n",
       "      <td>sillycrazyfox</td>\n",
       "    </tr>\n",
       "  </tbody>\n",
       "</table>\n",
       "</div>"
      ],
      "text/plain": [
       "   Datetime                                               Text        Username\n",
       "0  Dec-2022  SOCIALIZED MEDIA: HUNDREDS OF ISRAEL’S UNIT 82...   Tibou33969029\n",
       "1  Dec-2022  RT HuffPostWomen: The Microsoft mogul gave $5 ...   GrowGirlathon\n",
       "2  Dec-2022  The Microsoft mogul gave $5 billion to the Bil...       LinusAlso\n",
       "3  Dec-2022  Microsoft SQL/C Developer at RBC\\nCome Work wi...       zobjobsCA\n",
       "4  Dec-2022  Large NYC taxi fleet looking to hire a SECRETA...    radio_rusrek\n",
       "5  Dec-2022  Large NYC taxi fleet looking to hire a SECRETA...     rusrek_news\n",
       "6  Dec-2022  @TolandsJournal @destinytrack Yes but Microsof...     Waluigisbae\n",
       "7  Dec-2022  Interesting read on hybrid work - we need to l...   janemackarell\n",
       "8  Dec-2022  @Z_is_real_2402 i will now work offline. you n...  brainyfox_noob\n",
       "9  Dec-2022  what the heck microsoft. RD client 8 is no mor...   sillycrazyfox"
      ]
     },
     "execution_count": 2,
     "metadata": {},
     "output_type": "execute_result"
    }
   ],
   "source": [
    "#Load Dataset\n",
    "Microsoft_df = pd.read_csv('Dataset/Companies/microsoft.csv')\n",
    "Microsoft_df.head(10)"
   ]
  },
  {
   "cell_type": "code",
   "execution_count": 3,
   "metadata": {},
   "outputs": [],
   "source": [
    "microsoft_dec22 = Microsoft_df[Microsoft_df['Datetime'] == 'Dec-2022']\n",
    "microsoft_jan23 = Microsoft_df[Microsoft_df['Datetime'] == 'Jan-2023']\n",
    "microsoft_feb23 = Microsoft_df[Microsoft_df['Datetime'] == 'Feb-2023']"
   ]
  },
  {
   "cell_type": "code",
   "execution_count": 4,
   "metadata": {},
   "outputs": [
    {
     "data": {
      "text/html": [
       "<div>\n",
       "<style scoped>\n",
       "    .dataframe tbody tr th:only-of-type {\n",
       "        vertical-align: middle;\n",
       "    }\n",
       "\n",
       "    .dataframe tbody tr th {\n",
       "        vertical-align: top;\n",
       "    }\n",
       "\n",
       "    .dataframe thead th {\n",
       "        text-align: right;\n",
       "    }\n",
       "</style>\n",
       "<table border=\"1\" class=\"dataframe\">\n",
       "  <thead>\n",
       "    <tr style=\"text-align: right;\">\n",
       "      <th></th>\n",
       "      <th>Datetime</th>\n",
       "      <th>Text</th>\n",
       "      <th>Username</th>\n",
       "    </tr>\n",
       "  </thead>\n",
       "  <tbody>\n",
       "    <tr>\n",
       "      <th>0</th>\n",
       "      <td>Dec-2022</td>\n",
       "      <td>SOCIALIZED MEDIA: HUNDREDS OF ISRAEL’S UNIT 82...</td>\n",
       "      <td>Tibou33969029</td>\n",
       "    </tr>\n",
       "    <tr>\n",
       "      <th>1</th>\n",
       "      <td>Dec-2022</td>\n",
       "      <td>RT HuffPostWomen: The Microsoft mogul gave $5 ...</td>\n",
       "      <td>GrowGirlathon</td>\n",
       "    </tr>\n",
       "    <tr>\n",
       "      <th>2</th>\n",
       "      <td>Dec-2022</td>\n",
       "      <td>The Microsoft mogul gave $5 billion to the Bil...</td>\n",
       "      <td>LinusAlso</td>\n",
       "    </tr>\n",
       "    <tr>\n",
       "      <th>3</th>\n",
       "      <td>Dec-2022</td>\n",
       "      <td>Microsoft SQL/C Developer at RBC\\nCome Work wi...</td>\n",
       "      <td>zobjobsCA</td>\n",
       "    </tr>\n",
       "    <tr>\n",
       "      <th>4</th>\n",
       "      <td>Dec-2022</td>\n",
       "      <td>Large NYC taxi fleet looking to hire a SECRETA...</td>\n",
       "      <td>radio_rusrek</td>\n",
       "    </tr>\n",
       "  </tbody>\n",
       "</table>\n",
       "</div>"
      ],
      "text/plain": [
       "   Datetime                                               Text       Username\n",
       "0  Dec-2022  SOCIALIZED MEDIA: HUNDREDS OF ISRAEL’S UNIT 82...  Tibou33969029\n",
       "1  Dec-2022  RT HuffPostWomen: The Microsoft mogul gave $5 ...  GrowGirlathon\n",
       "2  Dec-2022  The Microsoft mogul gave $5 billion to the Bil...      LinusAlso\n",
       "3  Dec-2022  Microsoft SQL/C Developer at RBC\\nCome Work wi...      zobjobsCA\n",
       "4  Dec-2022  Large NYC taxi fleet looking to hire a SECRETA...   radio_rusrek"
      ]
     },
     "execution_count": 4,
     "metadata": {},
     "output_type": "execute_result"
    }
   ],
   "source": [
    "microsoft_dec22.head()"
   ]
  },
  {
   "cell_type": "code",
   "execution_count": 5,
   "metadata": {},
   "outputs": [],
   "source": [
    "#Remove URLs\n",
    "microsoft_dec22= microsoft_dec22['Text'].apply(lambda x: re.sub(r'https?:\\/\\/\\S+', '', x))\n",
    "microsoft_jan23= microsoft_jan23['Text'].apply(lambda x: re.sub(r'https?:\\/\\/\\S+', '', x))\n",
    "microsoft_feb23= microsoft_feb23['Text'].apply(lambda x: re.sub(r'https?:\\/\\/\\S+', '', x))\n"
   ]
  },
  {
   "cell_type": "code",
   "execution_count": 6,
   "metadata": {},
   "outputs": [],
   "source": [
    "#Remove HTML Reference Characters\n",
    "microsoft_dec22 = microsoft_dec22.apply(lambda x: re.sub(r'&[a-z]+;', '', x))\n",
    "microsoft_jan23 = microsoft_jan23.apply(lambda x: re.sub(r'&[a-z]+;', '', x))\n",
    "microsoft_feb23 = microsoft_feb23.apply(lambda x: re.sub(r'&[a-z]+;', '', x))"
   ]
  },
  {
   "cell_type": "code",
   "execution_count": 7,
   "metadata": {},
   "outputs": [],
   "source": [
    "#Remove Twitter Handles\n",
    "microsoft_dec22 = microsoft_dec22.apply(lambda x: re.sub(r'@[^ ]+', '', x))\n",
    "microsoft_jan23 = microsoft_jan23.apply(lambda x: re.sub(r'@[^ ]+', '', x))\n",
    "microsoft_feb23 = microsoft_feb23.apply(lambda x: re.sub(r'@[^ ]+', '', x))"
   ]
  },
  {
   "cell_type": "code",
   "execution_count": 8,
   "metadata": {},
   "outputs": [
    {
     "data": {
      "text/plain": [
       "0    SOCIALIZED MEDIA: HUNDREDS OF ISRAEL’S UNIT 82...\n",
       "1    RT HuffPostWomen: The Microsoft mogul gave $5 ...\n",
       "2    The Microsoft mogul gave $5 billion to the Bil...\n",
       "3    Microsoft SQL/C Developer at RBC\\nCome Work wi...\n",
       "4    Large NYC taxi fleet looking to hire a SECRETA...\n",
       "Name: Text, dtype: object"
      ]
     },
     "execution_count": 8,
     "metadata": {},
     "output_type": "execute_result"
    }
   ],
   "source": [
    "microsoft_dec22.head()"
   ]
  },
  {
   "cell_type": "code",
   "execution_count": 9,
   "metadata": {},
   "outputs": [
    {
     "data": {
      "text/plain": [
       "963    Microsoft Outlook: \"Are you observing Groundho...\n",
       "964    Internet: *stop working for 1 millisecond*\\n \\...\n",
       "965      got suggestions? While I’m at it I may repla...\n",
       "966    I guarantee work will be better if Microsoft c...\n",
       "967    The Real Reasons For Big Tech Layoffs At Googl...\n",
       "Name: Text, dtype: object"
      ]
     },
     "execution_count": 9,
     "metadata": {},
     "output_type": "execute_result"
    }
   ],
   "source": [
    "microsoft_jan23.head()"
   ]
  },
  {
   "cell_type": "code",
   "execution_count": 10,
   "metadata": {},
   "outputs": [
    {
     "data": {
      "text/plain": [
       "1956    Ends tonight: Get Microsoft Office for Mac or ...\n",
       "1957    Are there any Microsoft services that don't wo...\n",
       "1958    That post on Twitter by VGC journalist caused ...\n",
       "1959     firstly - i hate it - it wants to do things a...\n",
       "1960     what problems are you having with Dropbox tha...\n",
       "Name: Text, dtype: object"
      ]
     },
     "execution_count": 10,
     "metadata": {},
     "output_type": "execute_result"
    }
   ],
   "source": [
    "microsoft_feb23.head()"
   ]
  },
  {
   "cell_type": "code",
   "execution_count": 11,
   "metadata": {},
   "outputs": [
    {
     "name": "stdout",
     "output_type": "stream",
     "text": [
      "Requirement already satisfied: nltk in c:\\users\\pc\\anaconda3\\lib\\site-packages (3.7)\n",
      "Requirement already satisfied: click in c:\\users\\pc\\anaconda3\\lib\\site-packages (from nltk) (8.0.4)\n",
      "Requirement already satisfied: regex>=2021.8.3 in c:\\users\\pc\\anaconda3\\lib\\site-packages (from nltk) (2022.7.9)\n",
      "Requirement already satisfied: joblib in c:\\users\\pc\\anaconda3\\lib\\site-packages (from nltk) (1.1.0)\n",
      "Requirement already satisfied: tqdm in c:\\users\\pc\\anaconda3\\lib\\site-packages (from nltk) (4.64.1)\n",
      "Requirement already satisfied: colorama in c:\\users\\pc\\anaconda3\\lib\\site-packages (from click->nltk) (0.4.5)\n"
     ]
    }
   ],
   "source": [
    "!pip install nltk"
   ]
  },
  {
   "cell_type": "code",
   "execution_count": 12,
   "metadata": {},
   "outputs": [
    {
     "name": "stderr",
     "output_type": "stream",
     "text": [
      "[nltk_data] Downloading package vader_lexicon to C:\\nltk_data...\n",
      "[nltk_data]   Package vader_lexicon is already up-to-date!\n"
     ]
    },
    {
     "data": {
      "text/plain": [
       "True"
      ]
     },
     "execution_count": 12,
     "metadata": {},
     "output_type": "execute_result"
    }
   ],
   "source": [
    "import nltk\n",
    "nltk.download('vader_lexicon')"
   ]
  },
  {
   "cell_type": "code",
   "execution_count": 13,
   "metadata": {},
   "outputs": [],
   "source": [
    "from nltk.sentiment.vader import SentimentIntensityAnalyzer\n",
    "analyzer = SentimentIntensityAnalyzer()"
   ]
  },
  {
   "cell_type": "code",
   "execution_count": 14,
   "metadata": {},
   "outputs": [
    {
     "name": "stdout",
     "output_type": "stream",
     "text": [
      "Microsoft Sentiments Dec 2022\n",
      "Negativity: 0.04139044652128762\n",
      "Positivity: 0.11928764278296976\n",
      "Neutral: 0.8393136033229479\n",
      "Compound: 0.2540403946002076\n"
     ]
    }
   ],
   "source": [
    "micro_dec_list = []\n",
    "for i in range(len(microsoft_dec22)):\n",
    "    vs = analyzer.polarity_scores(microsoft_dec22[i])\n",
    "    micro_dec_list.append(vs)\n",
    "\n",
    "neg = 0\n",
    "pos = 0\n",
    "neu = 0\n",
    "compound = 0\n",
    "for i in micro_dec_list:\n",
    "    neg += i['neg']\n",
    "    pos += i['pos']\n",
    "    neu += i['neu']\n",
    "    compound += i['compound']\n",
    "\n",
    "x = len(micro_dec_list)   \n",
    "dec_neg = neg/x\n",
    "dec_pos = pos/x\n",
    "dec_neu= neu/x\n",
    "dec_compound = compound/x\n",
    "\n",
    "print('Microsoft Sentiments Dec 2022')\n",
    "print('Negativity: '+ str(dec_neg))\n",
    "print('Positivity: '+ str(dec_pos))\n",
    "print('Neutral: '+ str(dec_neu))\n",
    "print('Compound: '+ str(dec_compound))\n",
    "    "
   ]
  },
  {
   "cell_type": "markdown",
   "metadata": {},
   "source": [
    "##  predicted labels for first 100 tweets OF MICROSOFT DECEMBER "
   ]
  },
  {
   "cell_type": "code",
   "execution_count": 15,
   "metadata": {},
   "outputs": [],
   "source": [
    "dec_predictedscores = micro_dec_list[0:100]\n",
    "dec_predictedlabels = []\n",
    "for i in dec_predictedscores:\n",
    "    if i['compound'] == 0.0:\n",
    "        dec_predictedlabels.append('neutral')\n",
    "    elif i['compound'] > 0.0:\n",
    "        dec_predictedlabels.append('positive')\n",
    "        \n",
    "    elif i['compound'] < 0.0:\n",
    "        dec_predictedlabels.append('negative')\n",
    "        "
   ]
  },
  {
   "cell_type": "code",
   "execution_count": null,
   "metadata": {},
   "outputs": [],
   "source": [
    "# dec_predictedlabels is the predicted labels for 100 tweets of microsoft dec "
   ]
  },
  {
   "cell_type": "markdown",
   "metadata": {},
   "source": [
    "## loading the goldtruth for 100 microsoft dec tweets"
   ]
  },
  {
   "cell_type": "code",
   "execution_count": 16,
   "metadata": {},
   "outputs": [
    {
     "data": {
      "text/html": [
       "<div>\n",
       "<style scoped>\n",
       "    .dataframe tbody tr th:only-of-type {\n",
       "        vertical-align: middle;\n",
       "    }\n",
       "\n",
       "    .dataframe tbody tr th {\n",
       "        vertical-align: top;\n",
       "    }\n",
       "\n",
       "    .dataframe thead th {\n",
       "        text-align: right;\n",
       "    }\n",
       "</style>\n",
       "<table border=\"1\" class=\"dataframe\">\n",
       "  <thead>\n",
       "    <tr style=\"text-align: right;\">\n",
       "      <th></th>\n",
       "      <th>Datetime</th>\n",
       "      <th>Text</th>\n",
       "      <th>goldtruth</th>\n",
       "    </tr>\n",
       "  </thead>\n",
       "  <tbody>\n",
       "    <tr>\n",
       "      <th>0</th>\n",
       "      <td>2022-12-01</td>\n",
       "      <td>SOCIALIZED MEDIA: HUNDREDS OF ISRAEL‚ÄôS UNIT ...</td>\n",
       "      <td>negative</td>\n",
       "    </tr>\n",
       "    <tr>\n",
       "      <th>1</th>\n",
       "      <td>2022-12-01</td>\n",
       "      <td>RT HuffPostWomen: The Microsoft mogul gave $5 ...</td>\n",
       "      <td>neutral</td>\n",
       "    </tr>\n",
       "    <tr>\n",
       "      <th>2</th>\n",
       "      <td>2022-12-01</td>\n",
       "      <td>The Microsoft mogul gave $5 billion to the Bil...</td>\n",
       "      <td>neutral</td>\n",
       "    </tr>\n",
       "    <tr>\n",
       "      <th>3</th>\n",
       "      <td>2022-12-01</td>\n",
       "      <td>Microsoft SQL/C Developer at RBC\\nCome Work wi...</td>\n",
       "      <td>positive</td>\n",
       "    </tr>\n",
       "    <tr>\n",
       "      <th>4</th>\n",
       "      <td>2022-12-01</td>\n",
       "      <td>Large NYC taxi fleet looking to hire a SECRETA...</td>\n",
       "      <td>neutral</td>\n",
       "    </tr>\n",
       "    <tr>\n",
       "      <th>5</th>\n",
       "      <td>2022-12-01</td>\n",
       "      <td>Large NYC taxi fleet looking to hire a SECRETA...</td>\n",
       "      <td>neutral</td>\n",
       "    </tr>\n",
       "    <tr>\n",
       "      <th>6</th>\n",
       "      <td>2022-12-01</td>\n",
       "      <td>@TolandsJournal @destinytrack Yes but Microsof...</td>\n",
       "      <td>negative</td>\n",
       "    </tr>\n",
       "    <tr>\n",
       "      <th>7</th>\n",
       "      <td>2022-12-01</td>\n",
       "      <td>Interesting read on hybrid work - we need to l...</td>\n",
       "      <td>positive</td>\n",
       "    </tr>\n",
       "    <tr>\n",
       "      <th>8</th>\n",
       "      <td>2022-12-01</td>\n",
       "      <td>@Z_is_real_2402 i will now work offline. you n...</td>\n",
       "      <td>neutral</td>\n",
       "    </tr>\n",
       "    <tr>\n",
       "      <th>9</th>\n",
       "      <td>2022-12-01</td>\n",
       "      <td>what the heck microsoft. RD client 8 is no mor...</td>\n",
       "      <td>negative</td>\n",
       "    </tr>\n",
       "  </tbody>\n",
       "</table>\n",
       "</div>"
      ],
      "text/plain": [
       "    Datetime                                               Text goldtruth\n",
       "0 2022-12-01  SOCIALIZED MEDIA: HUNDREDS OF ISRAEL‚ÄôS UNIT ...  negative\n",
       "1 2022-12-01  RT HuffPostWomen: The Microsoft mogul gave $5 ...   neutral\n",
       "2 2022-12-01  The Microsoft mogul gave $5 billion to the Bil...   neutral\n",
       "3 2022-12-01  Microsoft SQL/C Developer at RBC\\nCome Work wi...  positive\n",
       "4 2022-12-01  Large NYC taxi fleet looking to hire a SECRETA...   neutral\n",
       "5 2022-12-01  Large NYC taxi fleet looking to hire a SECRETA...   neutral\n",
       "6 2022-12-01  @TolandsJournal @destinytrack Yes but Microsof...  negative\n",
       "7 2022-12-01  Interesting read on hybrid work - we need to l...  positive\n",
       "8 2022-12-01  @Z_is_real_2402 i will now work offline. you n...   neutral\n",
       "9 2022-12-01  what the heck microsoft. RD client 8 is no mor...  negative"
      ]
     },
     "execution_count": 16,
     "metadata": {},
     "output_type": "execute_result"
    }
   ],
   "source": [
    "micro_goldtruth = pd.read_excel('Dataset/Comparing Accuracy/microsoft_goldtruth.xlsx')\n",
    "micro_goldtruth.head(10)"
   ]
  },
  {
   "cell_type": "code",
   "execution_count": 17,
   "metadata": {},
   "outputs": [],
   "source": [
    "goldtruthvalues = list(micro_goldtruth['goldtruth'])\n",
    "#goldtruthvalues is the true labels of the 100 microsoft dec tweets "
   ]
  },
  {
   "cell_type": "markdown",
   "metadata": {},
   "source": [
    "# count number of correct predictions for microsoft dec 22"
   ]
  },
  {
   "cell_type": "code",
   "execution_count": 18,
   "metadata": {},
   "outputs": [
    {
     "name": "stdout",
     "output_type": "stream",
     "text": [
      "54\n"
     ]
    }
   ],
   "source": [
    "microsoft_accuracycount = 0\n",
    "for i in range(len(dec_predictedlabels)):\n",
    "    if dec_predictedlabels[i] == goldtruthvalues[i]:\n",
    "        microsoft_accuracycount += 1\n",
    "        \n",
    "print(microsoft_accuracycount)\n",
    "\n",
    "# 54 correct values out of 100, for microsoft \n",
    "    "
   ]
  },
  {
   "cell_type": "markdown",
   "metadata": {},
   "source": [
    "# weighted precision/recall/f1 computation microsoft "
   ]
  },
  {
   "cell_type": "code",
   "execution_count": null,
   "metadata": {},
   "outputs": [],
   "source": [
    "#33 negative\n",
    "#36 neutral \n",
    "#31 positive in goldtruth of microsoft"
   ]
  },
  {
   "cell_type": "code",
   "execution_count": 19,
   "metadata": {},
   "outputs": [
    {
     "name": "stdout",
     "output_type": "stream",
     "text": [
      "26\n",
      "39\n",
      "30\n",
      "5\n"
     ]
    }
   ],
   "source": [
    "## for the 'positive' class, count number of TP, TN, FP and Fn\n",
    "\n",
    "tp_microsoft_pos = 0\n",
    "for i in range(len(dec_predictedlabels)):\n",
    "    if dec_predictedlabels[i] == 'positive' and goldtruthvalues[i] == 'positive':\n",
    "        tp_microsoft_pos += 1\n",
    "        \n",
    "        \n",
    "tn_microsoft_pos = 0\n",
    "for i in range(len(dec_predictedlabels)):\n",
    "    if dec_predictedlabels[i] != 'positive' and goldtruthvalues[i] != 'positive':\n",
    "        tn_microsoft_pos += 1\n",
    "        \n",
    "fp_microsoft_pos = 0\n",
    "for i in range(len(dec_predictedlabels)):\n",
    "    if dec_predictedlabels[i] == 'positive' and goldtruthvalues[i] != 'positive':\n",
    "        fp_microsoft_pos += 1\n",
    "        \n",
    "fn_microsoft_pos = 0\n",
    "for i in range(len(dec_predictedlabels)):\n",
    "    if dec_predictedlabels[i] != 'positive' and goldtruthvalues[i] == 'positive':\n",
    "        fn_microsoft_pos += 1\n",
    "        \n",
    "print(tp_microsoft_pos)\n",
    "print(tn_microsoft_pos)\n",
    "print(fp_microsoft_pos)\n",
    "print(fn_microsoft_pos)\n"
   ]
  },
  {
   "cell_type": "code",
   "execution_count": 20,
   "metadata": {},
   "outputs": [
    {
     "name": "stdout",
     "output_type": "stream",
     "text": [
      "14\n",
      "62\n",
      "5\n",
      "19\n"
     ]
    }
   ],
   "source": [
    "## for the 'negative' class, count number of TP, TN, FP and Fn\n",
    "\n",
    "tp_microsoft_neg = 0\n",
    "for i in range(len(dec_predictedlabels)):\n",
    "    if dec_predictedlabels[i] == 'negative' and goldtruthvalues[i] == 'negative':\n",
    "        tp_microsoft_neg += 1\n",
    "        \n",
    "        \n",
    "tn_microsoft_neg = 0\n",
    "for i in range(len(dec_predictedlabels)):\n",
    "    if dec_predictedlabels[i] != 'negative' and goldtruthvalues[i] != 'negative':\n",
    "        tn_microsoft_neg += 1\n",
    "        \n",
    "fp_microsoft_neg = 0\n",
    "for i in range(len(dec_predictedlabels)):\n",
    "    if dec_predictedlabels[i] == 'negative' and goldtruthvalues[i] != 'negative':\n",
    "        fp_microsoft_neg += 1\n",
    "        \n",
    "fn_microsoft_neg = 0\n",
    "for i in range(len(dec_predictedlabels)):\n",
    "    if dec_predictedlabels[i] != 'negative' and goldtruthvalues[i] == 'negative':\n",
    "        fn_microsoft_neg += 1\n",
    "        \n",
    "print(tp_microsoft_neg)\n",
    "print(tn_microsoft_neg)\n",
    "print(fp_microsoft_neg)\n",
    "print(fn_microsoft_neg)\n"
   ]
  },
  {
   "cell_type": "code",
   "execution_count": 21,
   "metadata": {},
   "outputs": [
    {
     "name": "stdout",
     "output_type": "stream",
     "text": [
      "14\n",
      "53\n",
      "11\n",
      "22\n"
     ]
    }
   ],
   "source": [
    "## for the 'neutral' class, count number of TP, TN, FP and Fn\n",
    "\n",
    "tp_microsoft_neu = 0\n",
    "for i in range(len(dec_predictedlabels)):\n",
    "    if dec_predictedlabels[i] == 'neutral' and goldtruthvalues[i] == 'neutral':\n",
    "        tp_microsoft_neu += 1\n",
    "        \n",
    "        \n",
    "tn_microsoft_neu = 0\n",
    "for i in range(len(dec_predictedlabels)):\n",
    "    if dec_predictedlabels[i] != 'neutral' and goldtruthvalues[i] != 'neutral':\n",
    "        tn_microsoft_neu += 1\n",
    "        \n",
    "fp_microsoft_neu = 0\n",
    "for i in range(len(dec_predictedlabels)):\n",
    "    if dec_predictedlabels[i] == 'neutral' and goldtruthvalues[i] != 'neutral':\n",
    "        fp_microsoft_neu += 1\n",
    "        \n",
    "fn_microsoft_neu = 0\n",
    "for i in range(len(dec_predictedlabels)):\n",
    "    if dec_predictedlabels[i] != 'neutral' and goldtruthvalues[i] == 'neutral':\n",
    "        fn_microsoft_neu += 1\n",
    "        \n",
    "print(tp_microsoft_neu)\n",
    "print(tn_microsoft_neu)\n",
    "print(fp_microsoft_neu)\n",
    "print(fn_microsoft_neu)"
   ]
  },
  {
   "cell_type": "markdown",
   "metadata": {},
   "source": [
    "# sentiment analysis of jan/feb microsoft w no comparison to goldtruth"
   ]
  },
  {
   "cell_type": "code",
   "execution_count": 22,
   "metadata": {},
   "outputs": [
    {
     "name": "stdout",
     "output_type": "stream",
     "text": [
      "Microsoft Sentiments Jan 2023\n",
      "Negativity: 0.03722759315206442\n",
      "Positivity: 0.09161933534743198\n",
      "Neutral: 0.8711631419939573\n",
      "Compound: 0.1699251762336353\n"
     ]
    }
   ],
   "source": [
    "jan_list = []\n",
    "for i in microsoft_jan23:\n",
    "    vs = analyzer.polarity_scores(i)\n",
    "    jan_list.append(vs)\n",
    "\n",
    "neg = 0\n",
    "pos = 0\n",
    "neu = 0\n",
    "compound = 0\n",
    "for i in jan_list:\n",
    "    neg += i['neg']\n",
    "    pos += i['pos']\n",
    "    neu += i['neu']\n",
    "    compound += i['compound']\n",
    "\n",
    "x = len(jan_list)   \n",
    "jan_neg = neg/x\n",
    "jan_pos = pos/x\n",
    "jan_neu= neu/x\n",
    "jan_compound = compound/x\n",
    "\n",
    "print('Microsoft Sentiments Jan 2023')\n",
    "print('Negativity: '+ str(jan_neg))\n",
    "print('Positivity: '+ str(jan_pos))\n",
    "print('Neutral: '+ str(jan_neu))\n",
    "print('Compound: '+ str(jan_compound))"
   ]
  },
  {
   "cell_type": "code",
   "execution_count": 23,
   "metadata": {},
   "outputs": [
    {
     "name": "stdout",
     "output_type": "stream",
     "text": [
      "Microsoft Sentiments Feb 2023\n",
      "Negativity: 0.04269508525576733\n",
      "Positivity: 0.12634302908726175\n",
      "Neutral: 0.8309618856569703\n",
      "Compound: 0.26621675025075225\n"
     ]
    }
   ],
   "source": [
    "feb_list = []\n",
    "for i in microsoft_feb23:\n",
    "    vs = analyzer.polarity_scores(i)\n",
    "    feb_list.append(vs)\n",
    "\n",
    "neg = 0\n",
    "pos = 0\n",
    "neu = 0\n",
    "compound = 0\n",
    "for i in feb_list:\n",
    "    neg += i['neg']\n",
    "    pos += i['pos']\n",
    "    neu += i['neu']\n",
    "    compound += i['compound']\n",
    "\n",
    "x = len(feb_list)   \n",
    "feb_neg = neg/x\n",
    "feb_pos = pos/x\n",
    "feb_neu= neu/x\n",
    "feb_compound = compound/x\n",
    "\n",
    "print('Microsoft Sentiments Feb 2023')\n",
    "print('Negativity: '+ str(feb_neg))\n",
    "print('Positivity: '+ str(feb_pos))\n",
    "print('Neutral: '+ str(feb_neu))\n",
    "print('Compound: '+ str(feb_compound))\n"
   ]
  },
  {
   "cell_type": "markdown",
   "metadata": {},
   "source": [
    "# oracle"
   ]
  },
  {
   "cell_type": "code",
   "execution_count": 24,
   "metadata": {},
   "outputs": [
    {
     "data": {
      "text/html": [
       "<div>\n",
       "<style scoped>\n",
       "    .dataframe tbody tr th:only-of-type {\n",
       "        vertical-align: middle;\n",
       "    }\n",
       "\n",
       "    .dataframe tbody tr th {\n",
       "        vertical-align: top;\n",
       "    }\n",
       "\n",
       "    .dataframe thead th {\n",
       "        text-align: right;\n",
       "    }\n",
       "</style>\n",
       "<table border=\"1\" class=\"dataframe\">\n",
       "  <thead>\n",
       "    <tr style=\"text-align: right;\">\n",
       "      <th></th>\n",
       "      <th>Datetime</th>\n",
       "      <th>Text</th>\n",
       "      <th>Username</th>\n",
       "    </tr>\n",
       "  </thead>\n",
       "  <tbody>\n",
       "    <tr>\n",
       "      <th>0</th>\n",
       "      <td>Dec-2022</td>\n",
       "      <td>”Drywall's \"Work The Dumb Oracle\" album's warm...</td>\n",
       "      <td>Stan_Ridgway</td>\n",
       "    </tr>\n",
       "    <tr>\n",
       "      <th>1</th>\n",
       "      <td>Dec-2022</td>\n",
       "      <td>@ORACLE_ECHO @snakeeyes828 @CPD1617Scanner Wha...</td>\n",
       "      <td>GrizzledTexan</td>\n",
       "    </tr>\n",
       "    <tr>\n",
       "      <th>2</th>\n",
       "      <td>Dec-2022</td>\n",
       "      <td>My copy of FANTASTIC FRIGHTS arrived, marking ...</td>\n",
       "      <td>lomakescomics</td>\n",
       "    </tr>\n",
       "    <tr>\n",
       "      <th>3</th>\n",
       "      <td>Dec-2022</td>\n",
       "      <td>Look at any university in the US, they have cl...</td>\n",
       "      <td>NullRSJ</td>\n",
       "    </tr>\n",
       "    <tr>\n",
       "      <th>4</th>\n",
       "      <td>Dec-2022</td>\n",
       "      <td>@MsJoyceTarot Ms Joyce, I’ve followed your wor...</td>\n",
       "      <td>KLVNKBRWN</td>\n",
       "    </tr>\n",
       "    <tr>\n",
       "      <th>5</th>\n",
       "      <td>Dec-2022</td>\n",
       "      <td>@lightworker4441 Another beautiful addition to...</td>\n",
       "      <td>DeesyMaria</td>\n",
       "    </tr>\n",
       "    <tr>\n",
       "      <th>6</th>\n",
       "      <td>Dec-2022</td>\n",
       "      <td>@Fact_Oracle @AJemaineClement you really had t...</td>\n",
       "      <td>asp_basilisk</td>\n",
       "    </tr>\n",
       "    <tr>\n",
       "      <th>7</th>\n",
       "      <td>Dec-2022</td>\n",
       "      <td>@benmudowaya @GonyeMukototsi @Yvonne_Maphosa C...</td>\n",
       "      <td>Zim_Oracle</td>\n",
       "    </tr>\n",
       "    <tr>\n",
       "      <th>8</th>\n",
       "      <td>Dec-2022</td>\n",
       "      <td>@Henryjeromekni2 @SimbaGolden1 @JoJoFromJerz S...</td>\n",
       "      <td>TaxManZacch7_12</td>\n",
       "    </tr>\n",
       "    <tr>\n",
       "      <th>9</th>\n",
       "      <td>Dec-2022</td>\n",
       "      <td>I've managed to do all this with 2 kids, one a...</td>\n",
       "      <td>elisabethalba</td>\n",
       "    </tr>\n",
       "  </tbody>\n",
       "</table>\n",
       "</div>"
      ],
      "text/plain": [
       "   Datetime                                               Text  \\\n",
       "0  Dec-2022  ”Drywall's \"Work The Dumb Oracle\" album's warm...   \n",
       "1  Dec-2022  @ORACLE_ECHO @snakeeyes828 @CPD1617Scanner Wha...   \n",
       "2  Dec-2022  My copy of FANTASTIC FRIGHTS arrived, marking ...   \n",
       "3  Dec-2022  Look at any university in the US, they have cl...   \n",
       "4  Dec-2022  @MsJoyceTarot Ms Joyce, I’ve followed your wor...   \n",
       "5  Dec-2022  @lightworker4441 Another beautiful addition to...   \n",
       "6  Dec-2022  @Fact_Oracle @AJemaineClement you really had t...   \n",
       "7  Dec-2022  @benmudowaya @GonyeMukototsi @Yvonne_Maphosa C...   \n",
       "8  Dec-2022  @Henryjeromekni2 @SimbaGolden1 @JoJoFromJerz S...   \n",
       "9  Dec-2022  I've managed to do all this with 2 kids, one a...   \n",
       "\n",
       "          Username  \n",
       "0     Stan_Ridgway  \n",
       "1    GrizzledTexan  \n",
       "2    lomakescomics  \n",
       "3          NullRSJ  \n",
       "4        KLVNKBRWN  \n",
       "5       DeesyMaria  \n",
       "6     asp_basilisk  \n",
       "7       Zim_Oracle  \n",
       "8  TaxManZacch7_12  \n",
       "9    elisabethalba  "
      ]
     },
     "execution_count": 24,
     "metadata": {},
     "output_type": "execute_result"
    }
   ],
   "source": [
    "#Load Dataset\n",
    "oracle_df = pd.read_csv('Dataset/Companies/oracle.csv')\n",
    "oracle_df.head(10)"
   ]
  },
  {
   "cell_type": "code",
   "execution_count": 25,
   "metadata": {},
   "outputs": [],
   "source": [
    "oracle_dec22 = oracle_df[oracle_df['Datetime'] == 'Dec-2022']\n",
    "oracle_jan23 = oracle_df[oracle_df['Datetime'] == 'Jan-2023']\n",
    "oracle_feb23 = oracle_df[oracle_df['Datetime'] == 'Feb-2023']"
   ]
  },
  {
   "cell_type": "code",
   "execution_count": 26,
   "metadata": {},
   "outputs": [],
   "source": [
    "#Remove URLs\n",
    "oracle_dec22= oracle_dec22['Text'].apply(lambda x: re.sub(r'https?:\\/\\/\\S+', '', x))\n",
    "oracle_jan23= oracle_jan23['Text'].apply(lambda x: re.sub(r'https?:\\/\\/\\S+', '', x))\n",
    "oracle_feb23= oracle_feb23['Text'].apply(lambda x: re.sub(r'https?:\\/\\/\\S+', '', x))"
   ]
  },
  {
   "cell_type": "code",
   "execution_count": 27,
   "metadata": {},
   "outputs": [],
   "source": [
    "#Remove HTML Reference Characters\n",
    "oracle_dec22 = oracle_dec22.apply(lambda x: re.sub(r'&[a-z]+;', '', x))\n",
    "oracle_jan23 = oracle_jan23.apply(lambda x: re.sub(r'&[a-z]+;', '', x))\n",
    "oracle_feb23 = oracle_feb23.apply(lambda x: re.sub(r'&[a-z]+;', '', x))"
   ]
  },
  {
   "cell_type": "code",
   "execution_count": 28,
   "metadata": {},
   "outputs": [],
   "source": [
    "#Remove Twitter Handles\n",
    "oracle_dec22 = oracle_dec22.apply(lambda x: re.sub(r'@[^ ]+', '', x))\n",
    "oracle_jan23 = oracle_jan23.apply(lambda x: re.sub(r'@[^ ]+', '', x))\n",
    "oracle_feb23 = oracle_feb23.apply(lambda x: re.sub(r'@[^ ]+', '', x))"
   ]
  },
  {
   "cell_type": "code",
   "execution_count": 29,
   "metadata": {},
   "outputs": [
    {
     "data": {
      "text/plain": [
       "958    Can you still continue using Toad for  after t...\n",
       "959       Just a cute oracle in between commission work \n",
       "960    We are looking for an ETL Developer to work re...\n",
       "961       I don't wish to argue. Just would like to c...\n",
       "962    Happy #HumpDay #Tallahassee!  We're #Hiring an...\n",
       "Name: Text, dtype: object"
      ]
     },
     "execution_count": 29,
     "metadata": {},
     "output_type": "execute_result"
    }
   ],
   "source": [
    "oracle_jan23.head()"
   ]
  },
  {
   "cell_type": "code",
   "execution_count": 30,
   "metadata": {},
   "outputs": [
    {
     "name": "stdout",
     "output_type": "stream",
     "text": [
      "Oracle Sentiments Dec 2022\n",
      "Negativity: 0.030812108559498966\n",
      "Positivity: 0.1398037578288097\n",
      "Neutral: 0.8293914405010422\n",
      "Compound: 0.3235304801670139\n"
     ]
    }
   ],
   "source": [
    "oracle_dec_list = []\n",
    "for i in range(len(oracle_dec22)):\n",
    "    vs = analyzer.polarity_scores(oracle_dec22[i])\n",
    "    oracle_dec_list.append(vs)\n",
    "\n",
    "neg = 0\n",
    "pos = 0\n",
    "neu = 0\n",
    "compound = 0\n",
    "for i in oracle_dec_list:\n",
    "    neg += i['neg']\n",
    "    pos += i['pos']\n",
    "    neu += i['neu']\n",
    "    compound += i['compound']\n",
    "\n",
    "x = len(oracle_dec_list)   \n",
    "dec_neg = neg/x\n",
    "dec_pos = pos/x\n",
    "dec_neu= neu/x\n",
    "dec_compound = compound/x\n",
    "\n",
    "print('Oracle Sentiments Dec 2022')\n",
    "print('Negativity: '+ str(dec_neg))\n",
    "print('Positivity: '+ str(dec_pos))\n",
    "print('Neutral: '+ str(dec_neu))\n",
    "print('Compound: '+ str(dec_compound))"
   ]
  },
  {
   "cell_type": "markdown",
   "metadata": {},
   "source": [
    "## predicted labels for 100 tweets of oracle dec "
   ]
  },
  {
   "cell_type": "code",
   "execution_count": 31,
   "metadata": {},
   "outputs": [],
   "source": [
    "oracle_dec_predictedscores = oracle_dec_list[0:100]\n",
    "oracle_dec_predictedlabels = []\n",
    "for i in oracle_dec_predictedscores:\n",
    "    if i['compound'] == 0.0:\n",
    "        oracle_dec_predictedlabels.append('neutral')\n",
    "    elif i['compound'] > 0.0:\n",
    "        oracle_dec_predictedlabels.append('positive')\n",
    "        \n",
    "    elif i['compound'] < 0.0:\n",
    "        oracle_dec_predictedlabels.append('negative')"
   ]
  },
  {
   "cell_type": "code",
   "execution_count": null,
   "metadata": {},
   "outputs": [],
   "source": [
    "#oracle_dec_predictedlabels is the list of predicted labels for 100 tweets of oracle "
   ]
  },
  {
   "cell_type": "markdown",
   "metadata": {},
   "source": [
    "## loading oracle goldtruth for first 100 tweets of dec 2022"
   ]
  },
  {
   "cell_type": "code",
   "execution_count": 32,
   "metadata": {},
   "outputs": [
    {
     "data": {
      "text/html": [
       "<div>\n",
       "<style scoped>\n",
       "    .dataframe tbody tr th:only-of-type {\n",
       "        vertical-align: middle;\n",
       "    }\n",
       "\n",
       "    .dataframe tbody tr th {\n",
       "        vertical-align: top;\n",
       "    }\n",
       "\n",
       "    .dataframe thead th {\n",
       "        text-align: right;\n",
       "    }\n",
       "</style>\n",
       "<table border=\"1\" class=\"dataframe\">\n",
       "  <thead>\n",
       "    <tr style=\"text-align: right;\">\n",
       "      <th></th>\n",
       "      <th>Datetime</th>\n",
       "      <th>Text</th>\n",
       "      <th>goldtruth</th>\n",
       "    </tr>\n",
       "  </thead>\n",
       "  <tbody>\n",
       "    <tr>\n",
       "      <th>0</th>\n",
       "      <td>2022-12-01</td>\n",
       "      <td>â€Drywall's \"Work The Dumb Oracle\" album's wa...</td>\n",
       "      <td>positive</td>\n",
       "    </tr>\n",
       "    <tr>\n",
       "      <th>1</th>\n",
       "      <td>2022-12-01</td>\n",
       "      <td>@ORACLE_ECHO @snakeeyes828 @CPD1617Scanner Wha...</td>\n",
       "      <td>neutral</td>\n",
       "    </tr>\n",
       "    <tr>\n",
       "      <th>2</th>\n",
       "      <td>2022-12-01</td>\n",
       "      <td>My copy of FANTASTIC FRIGHTS arrived, marking ...</td>\n",
       "      <td>positive</td>\n",
       "    </tr>\n",
       "    <tr>\n",
       "      <th>3</th>\n",
       "      <td>2022-12-01</td>\n",
       "      <td>Look at any university in the US, they have cl...</td>\n",
       "      <td>positive</td>\n",
       "    </tr>\n",
       "    <tr>\n",
       "      <th>4</th>\n",
       "      <td>2022-12-01</td>\n",
       "      <td>@MsJoyceTarot Ms Joyce, Iâ€™ve followed your w...</td>\n",
       "      <td>positive</td>\n",
       "    </tr>\n",
       "    <tr>\n",
       "      <th>5</th>\n",
       "      <td>2022-12-01</td>\n",
       "      <td>@lightworker4441 Another beautiful addition to...</td>\n",
       "      <td>positive</td>\n",
       "    </tr>\n",
       "    <tr>\n",
       "      <th>6</th>\n",
       "      <td>2022-12-01</td>\n",
       "      <td>@Fact_Oracle @AJemaineClement you really had t...</td>\n",
       "      <td>positive</td>\n",
       "    </tr>\n",
       "    <tr>\n",
       "      <th>7</th>\n",
       "      <td>2022-12-01</td>\n",
       "      <td>@benmudowaya @GonyeMukototsi @Yvonne_Maphosa C...</td>\n",
       "      <td>negative</td>\n",
       "    </tr>\n",
       "    <tr>\n",
       "      <th>8</th>\n",
       "      <td>2022-12-01</td>\n",
       "      <td>@Henryjeromekni2 @SimbaGolden1 @JoJoFromJerz S...</td>\n",
       "      <td>negative</td>\n",
       "    </tr>\n",
       "    <tr>\n",
       "      <th>9</th>\n",
       "      <td>2022-12-01</td>\n",
       "      <td>I've managed to do all this with 2 kids, one a...</td>\n",
       "      <td>positive</td>\n",
       "    </tr>\n",
       "  </tbody>\n",
       "</table>\n",
       "</div>"
      ],
      "text/plain": [
       "    Datetime                                               Text goldtruth\n",
       "0 2022-12-01  â€Drywall's \"Work The Dumb Oracle\" album's wa...  positive\n",
       "1 2022-12-01  @ORACLE_ECHO @snakeeyes828 @CPD1617Scanner Wha...   neutral\n",
       "2 2022-12-01  My copy of FANTASTIC FRIGHTS arrived, marking ...  positive\n",
       "3 2022-12-01  Look at any university in the US, they have cl...  positive\n",
       "4 2022-12-01  @MsJoyceTarot Ms Joyce, Iâ€™ve followed your w...  positive\n",
       "5 2022-12-01  @lightworker4441 Another beautiful addition to...  positive\n",
       "6 2022-12-01  @Fact_Oracle @AJemaineClement you really had t...  positive\n",
       "7 2022-12-01  @benmudowaya @GonyeMukototsi @Yvonne_Maphosa C...  negative\n",
       "8 2022-12-01  @Henryjeromekni2 @SimbaGolden1 @JoJoFromJerz S...  negative\n",
       "9 2022-12-01  I've managed to do all this with 2 kids, one a...  positive"
      ]
     },
     "execution_count": 32,
     "metadata": {},
     "output_type": "execute_result"
    }
   ],
   "source": [
    "oracle_goldtruth = pd.read_excel('Dataset/Comparing Accuracy/oracle_goldtruth.xlsx')\n",
    "oracle_goldtruth.head(10)"
   ]
  },
  {
   "cell_type": "code",
   "execution_count": 33,
   "metadata": {},
   "outputs": [],
   "source": [
    "oracle_goldtruthvalues = list(oracle_goldtruth['goldtruth'])"
   ]
  },
  {
   "cell_type": "markdown",
   "metadata": {},
   "source": [
    "## count number of correct predictions for oracle dec 22"
   ]
  },
  {
   "cell_type": "code",
   "execution_count": 34,
   "metadata": {},
   "outputs": [
    {
     "name": "stdout",
     "output_type": "stream",
     "text": [
      "46\n"
     ]
    }
   ],
   "source": [
    "oracle_accuracycount = 0\n",
    "for i in range(len(oracle_dec_predictedlabels)):\n",
    "    if oracle_dec_predictedlabels[i] == oracle_goldtruthvalues[i]:\n",
    "        oracle_accuracycount += 1\n",
    "        \n",
    "print(oracle_accuracycount)\n",
    "\n",
    "# 46 correct values out of 100, for oracle \n",
    "    "
   ]
  },
  {
   "cell_type": "markdown",
   "metadata": {},
   "source": [
    "## overall accuracy score for vader"
   ]
  },
  {
   "cell_type": "code",
   "execution_count": 35,
   "metadata": {},
   "outputs": [
    {
     "name": "stdout",
     "output_type": "stream",
     "text": [
      "0.5\n"
     ]
    }
   ],
   "source": [
    "#Get accuracy of VADER model\n",
    "totalaccuracy = (oracle_accuracycount + microsoft_accuracycount)/200\n",
    "print(totalaccuracy)"
   ]
  },
  {
   "cell_type": "markdown",
   "metadata": {},
   "source": [
    "# weighted precision/recall/f1 computation oracle "
   ]
  },
  {
   "cell_type": "code",
   "execution_count": null,
   "metadata": {},
   "outputs": [],
   "source": [
    "#28 negative\n",
    "#43 neutral\n",
    "#29 positive \n",
    "# true labels in oracle goldtruth \n",
    "\n",
    "# adding up total labels across microsoft/oracle \n",
    "# negative : 28 + 33 =61\n",
    "\n",
    "# neutral : 43 + 36 = 79\n",
    "\n",
    "# positive: 29+ 31 = 60\n",
    "\n",
    "# not balanced dataset so thats why need weighted. "
   ]
  },
  {
   "cell_type": "code",
   "execution_count": 36,
   "metadata": {},
   "outputs": [
    {
     "name": "stdout",
     "output_type": "stream",
     "text": [
      "24\n",
      "31\n",
      "40\n",
      "5\n"
     ]
    }
   ],
   "source": [
    "## for the 'positive' class, count number of TP, TN, FP and Fn\n",
    "\n",
    "tp_oracle_pos = 0\n",
    "for i in range(len(oracle_dec_predictedlabels)):\n",
    "    if oracle_dec_predictedlabels[i] == 'positive' and oracle_goldtruthvalues[i] == 'positive':\n",
    "        tp_oracle_pos += 1\n",
    "        \n",
    "        \n",
    "tn_oracle_pos = 0\n",
    "for i in range(len(oracle_dec_predictedlabels)):\n",
    "    if oracle_dec_predictedlabels[i] != 'positive' and oracle_goldtruthvalues[i] != 'positive':\n",
    "        tn_oracle_pos += 1\n",
    "        \n",
    "fp_oracle_pos = 0\n",
    "for i in range(len(oracle_dec_predictedlabels)):\n",
    "    if oracle_dec_predictedlabels[i] == 'positive' and oracle_goldtruthvalues[i] != 'positive':\n",
    "        fp_oracle_pos += 1\n",
    "        \n",
    "fn_oracle_pos = 0\n",
    "for i in range(len(oracle_dec_predictedlabels)):\n",
    "    if oracle_dec_predictedlabels[i] != 'positive' and oracle_goldtruthvalues[i] == 'positive':\n",
    "        fn_oracle_pos += 1\n",
    "        \n",
    "print(tp_oracle_pos)\n",
    "print(tn_oracle_pos)\n",
    "print(fp_oracle_pos)\n",
    "print(fn_oracle_pos)\n"
   ]
  },
  {
   "cell_type": "code",
   "execution_count": 37,
   "metadata": {},
   "outputs": [
    {
     "name": "stdout",
     "output_type": "stream",
     "text": [
      "12\n",
      "66\n",
      "6\n",
      "16\n"
     ]
    }
   ],
   "source": [
    "## for the 'negative' class, count number of TP, TN, FP and Fn\n",
    "\n",
    "tp_oracle_neg = 0\n",
    "for i in range(len(oracle_dec_predictedlabels)):\n",
    "    if oracle_dec_predictedlabels[i] == 'negative' and oracle_goldtruthvalues[i] == 'negative':\n",
    "        tp_oracle_neg += 1\n",
    "        \n",
    "        \n",
    "tn_oracle_neg = 0\n",
    "for i in range(len(oracle_dec_predictedlabels)):\n",
    "    if oracle_dec_predictedlabels[i] != 'negative' and oracle_goldtruthvalues[i] != 'negative':\n",
    "        tn_oracle_neg += 1\n",
    "        \n",
    "fp_oracle_neg = 0\n",
    "for i in range(len(oracle_dec_predictedlabels)):\n",
    "    if oracle_dec_predictedlabels[i] == 'negative' and oracle_goldtruthvalues[i] != 'negative':\n",
    "        fp_oracle_neg += 1\n",
    "        \n",
    "fn_oracle_neg = 0\n",
    "for i in range(len(oracle_dec_predictedlabels)):\n",
    "    if oracle_dec_predictedlabels[i] != 'negative' and oracle_goldtruthvalues[i] == 'negative':\n",
    "        fn_oracle_neg += 1\n",
    "        \n",
    "print(tp_oracle_neg)\n",
    "print(tn_oracle_neg)\n",
    "print(fp_oracle_neg)\n",
    "print(fn_oracle_neg)\n"
   ]
  },
  {
   "cell_type": "code",
   "execution_count": 38,
   "metadata": {},
   "outputs": [
    {
     "name": "stdout",
     "output_type": "stream",
     "text": [
      "10\n",
      "49\n",
      "8\n",
      "33\n"
     ]
    }
   ],
   "source": [
    "## for the 'neutral' class, count number of TP, TN, FP and Fn\n",
    "\n",
    "tp_oracle_neu = 0\n",
    "for i in range(len(oracle_dec_predictedlabels)):\n",
    "    if oracle_dec_predictedlabels[i] == 'neutral' and oracle_goldtruthvalues[i] == 'neutral':\n",
    "        tp_oracle_neu += 1\n",
    "        \n",
    "        \n",
    "tn_oracle_neu = 0\n",
    "for i in range(len(oracle_dec_predictedlabels)):\n",
    "    if oracle_dec_predictedlabels[i] != 'neutral' and oracle_goldtruthvalues[i] != 'neutral':\n",
    "        tn_oracle_neu += 1\n",
    "        \n",
    "fp_oracle_neu = 0\n",
    "for i in range(len(oracle_dec_predictedlabels)):\n",
    "    if oracle_dec_predictedlabels[i] == 'neutral' and oracle_goldtruthvalues[i] != 'neutral':\n",
    "        fp_oracle_neu += 1\n",
    "        \n",
    "fn_oracle_neu = 0\n",
    "for i in range(len(oracle_dec_predictedlabels)):\n",
    "    if oracle_dec_predictedlabels[i] != 'neutral' and oracle_goldtruthvalues[i] == 'neutral':\n",
    "        fn_oracle_neu += 1\n",
    "        \n",
    "print(tp_oracle_neu)\n",
    "print(tn_oracle_neu)\n",
    "print(fp_oracle_neu)\n",
    "print(fn_oracle_neu)\n"
   ]
  },
  {
   "cell_type": "code",
   "execution_count": 39,
   "metadata": {},
   "outputs": [],
   "source": [
    "# adding up total labels across microsoft/oracle \n",
    "# negative : 28 + 33 =61\n",
    "# neutral : 43 + 36 = 79\n",
    "# positive: 29+ 31 = 60\n",
    "\n",
    "\n",
    "# positive class\n",
    "tp_pos = tp_oracle_pos + tp_microsoft_neg\n",
    "tn_pos = tn_oracle_pos + tn_microsoft_neg\n",
    "fp_pos = fp_oracle_pos + fp_microsoft_neg\n",
    "fn_pos = fn_oracle_pos + fn_microsoft_neg\n",
    "\n",
    "#negative class\n",
    "\n",
    "tp_neg = tp_oracle_neg + tp_microsoft_neg\n",
    "tn_neg = tn_oracle_neg + tn_microsoft_neg\n",
    "fp_neg = fp_oracle_neg + fp_microsoft_neg\n",
    "fn_neg = fn_oracle_neg + fn_microsoft_neg\n",
    "\n",
    "#neutral class\n",
    "\n",
    "tp_neu = tp_oracle_neu + tp_microsoft_neu\n",
    "tn_neu = tn_oracle_neu + tn_microsoft_neu\n",
    "fp_neu = fp_oracle_neu + fp_microsoft_neu\n",
    "fn_neu = fn_oracle_neu + fn_microsoft_neu\n"
   ]
  },
  {
   "cell_type": "code",
   "execution_count": 40,
   "metadata": {},
   "outputs": [],
   "source": [
    "# positive class\n",
    "\n",
    "precision_pos = tp_pos / (tp_pos + fp_pos)\n",
    "recall_pos = tp_pos / (tp_pos + fn_pos)\n",
    "\n",
    "# negative class\n",
    "\n",
    "precision_neg = tp_neg / (tp_neg + fp_neg)\n",
    "recall_neg = tp_neg / (tp_neg + fn_neg)\n",
    "\n",
    "# neutral class\n",
    "\n",
    "precision_neu = tp_neu / (tp_neu + fp_neu)\n",
    "recall_neu = tp_neu / (tp_neu + fn_neu)"
   ]
  },
  {
   "cell_type": "code",
   "execution_count": 41,
   "metadata": {},
   "outputs": [],
   "source": [
    "#weights for each class since we did not have a labelled dataset \n",
    "\n",
    "w_Positive = 200 / (3 * 60)\n",
    "\n",
    "w_Negative = 200 / (3 * 61)\n",
    "\n",
    "w_Neutral = 200 / (3 * 79)\n",
    "\n"
   ]
  },
  {
   "cell_type": "code",
   "execution_count": 42,
   "metadata": {},
   "outputs": [],
   "source": [
    "Macroaveraged_Precision = (w_Positive*precision_pos + w_Negative*precision_neg + w_Neutral * precision_neu) / 3\n",
    "\n",
    "Macroaveraged_Recall = (w_Positive*recall_pos + w_Negative*recall_neg + w_Neutral*recall_neu) / 3\n",
    "\n",
    "f1 = 2 * ( ( (Macroaveraged_Precision) * (Macroaveraged_Recall) ) / ( (Macroaveraged_Precision) + (Macroaveraged_Recall) ) )"
   ]
  },
  {
   "cell_type": "code",
   "execution_count": 43,
   "metadata": {},
   "outputs": [
    {
     "name": "stdout",
     "output_type": "stream",
     "text": [
      "Macroaveraged_Precision: 0.5825621317709787\n",
      "Macroaveraged_Recall: 0.46773245165286825\n",
      "F1 Score: 0.5188700740416946\n"
     ]
    }
   ],
   "source": [
    "print('Macroaveraged_Precision:',Macroaveraged_Precision)\n",
    "print('Macroaveraged_Recall:',Macroaveraged_Recall)\n",
    "print('F1 Score:', f1)"
   ]
  },
  {
   "cell_type": "markdown",
   "metadata": {},
   "source": [
    "## normal sentiment analysis for jan/feb of oracle, no comparison to goldtruth/accuracy scores etc"
   ]
  },
  {
   "cell_type": "code",
   "execution_count": 44,
   "metadata": {},
   "outputs": [
    {
     "name": "stdout",
     "output_type": "stream",
     "text": [
      "Oracle Sentiments Jan 2023\n",
      "Negativity: 0.033249438202247183\n",
      "Positivity: 0.1195247191011234\n",
      "Neutral: 0.8472280898876391\n",
      "Compound: 0.3105526966292127\n"
     ]
    }
   ],
   "source": [
    "jan_list = []\n",
    "for i in oracle_jan23:\n",
    "    vs = analyzer.polarity_scores(i)\n",
    "    jan_list.append(vs)\n",
    "\n",
    "neg = 0\n",
    "pos = 0\n",
    "neu = 0\n",
    "compound = 0\n",
    "for i in jan_list:\n",
    "    neg += i['neg']\n",
    "    pos += i['pos']\n",
    "    neu += i['neu']\n",
    "    compound += i['compound']\n",
    "\n",
    "x = len(jan_list)   \n",
    "jan_neg = neg/x\n",
    "jan_pos = pos/x\n",
    "jan_neu= neu/x\n",
    "jan_compound = compound/x\n",
    "\n",
    "print('Oracle Sentiments Jan 2023')\n",
    "print('Negativity: '+ str(jan_neg))\n",
    "print('Positivity: '+ str(jan_pos))\n",
    "print('Neutral: '+ str(jan_neu))\n",
    "print('Compound: '+ str(jan_compound))"
   ]
  },
  {
   "cell_type": "code",
   "execution_count": 45,
   "metadata": {},
   "outputs": [
    {
     "name": "stdout",
     "output_type": "stream",
     "text": [
      "Oracle Sentiments Feb 2023\n",
      "Negativity: 0.029188128772635828\n",
      "Positivity: 0.14098289738430542\n",
      "Neutral: 0.829835010060361\n",
      "Compound: 0.37037615694164844\n"
     ]
    }
   ],
   "source": [
    "feb_list = []\n",
    "for i in oracle_feb23:\n",
    "    vs = analyzer.polarity_scores(i)\n",
    "    feb_list.append(vs)\n",
    "\n",
    "neg = 0\n",
    "pos = 0\n",
    "neu = 0\n",
    "compound = 0\n",
    "for i in feb_list:\n",
    "    neg += i['neg']\n",
    "    pos += i['pos']\n",
    "    neu += i['neu']\n",
    "    compound += i['compound']\n",
    "\n",
    "x = len(feb_list)   \n",
    "feb_neg = neg/x\n",
    "feb_pos = pos/x\n",
    "feb_neu= neu/x\n",
    "feb_compound = compound/x\n",
    "\n",
    "print('Oracle Sentiments Feb 2023')\n",
    "print('Negativity: '+ str(feb_neg))\n",
    "print('Positivity: '+ str(feb_pos))\n",
    "print('Neutral: '+ str(feb_neu))\n",
    "print('Compound: '+ str(feb_compound))\n"
   ]
  },
  {
   "cell_type": "markdown",
   "metadata": {},
   "source": [
    "# ibm"
   ]
  },
  {
   "cell_type": "code",
   "execution_count": 46,
   "metadata": {},
   "outputs": [
    {
     "data": {
      "text/html": [
       "<div>\n",
       "<style scoped>\n",
       "    .dataframe tbody tr th:only-of-type {\n",
       "        vertical-align: middle;\n",
       "    }\n",
       "\n",
       "    .dataframe tbody tr th {\n",
       "        vertical-align: top;\n",
       "    }\n",
       "\n",
       "    .dataframe thead th {\n",
       "        text-align: right;\n",
       "    }\n",
       "</style>\n",
       "<table border=\"1\" class=\"dataframe\">\n",
       "  <thead>\n",
       "    <tr style=\"text-align: right;\">\n",
       "      <th></th>\n",
       "      <th>Datetime</th>\n",
       "      <th>Text</th>\n",
       "      <th>Username</th>\n",
       "    </tr>\n",
       "  </thead>\n",
       "  <tbody>\n",
       "    <tr>\n",
       "      <th>0</th>\n",
       "      <td>Dec-2022</td>\n",
       "      <td>#IBMCorp $IBM Monthwise Daily High - Low Movem...</td>\n",
       "      <td>AbhipraGroup</td>\n",
       "    </tr>\n",
       "    <tr>\n",
       "      <th>1</th>\n",
       "      <td>Dec-2022</td>\n",
       "      <td>Technology wasn't advanced to help the people....</td>\n",
       "      <td>HealnLuvHistory</td>\n",
       "    </tr>\n",
       "    <tr>\n",
       "      <th>2</th>\n",
       "      <td>Dec-2022</td>\n",
       "      <td>@GilmanHill @Stephanie_Link You guys making a ...</td>\n",
       "      <td>christi10006880</td>\n",
       "    </tr>\n",
       "    <tr>\n",
       "      <th>3</th>\n",
       "      <td>Dec-2022</td>\n",
       "      <td>@GillianStaveley @CBD_COP15 @DenaKayeh 2/2..pr...</td>\n",
       "      <td>RebelPikeMike</td>\n",
       "    </tr>\n",
       "    <tr>\n",
       "      <th>4</th>\n",
       "      <td>Dec-2022</td>\n",
       "      <td>@Dave_M748 @PR0GRAMMERHUM0R The funny thing is...</td>\n",
       "      <td>nickoasdf1</td>\n",
       "    </tr>\n",
       "    <tr>\n",
       "      <th>5</th>\n",
       "      <td>Dec-2022</td>\n",
       "      <td>@lindyli There are thousands of US companies i...</td>\n",
       "      <td>american4sense</td>\n",
       "    </tr>\n",
       "    <tr>\n",
       "      <th>6</th>\n",
       "      <td>Dec-2022</td>\n",
       "      <td>IBM Stock Uplifting Gains, Is the ideal time t...</td>\n",
       "      <td>cryptonewz_io</td>\n",
       "    </tr>\n",
       "    <tr>\n",
       "      <th>7</th>\n",
       "      <td>Dec-2022</td>\n",
       "      <td>@leesmithswrkshp Standard configuration should...</td>\n",
       "      <td>noisetank</td>\n",
       "    </tr>\n",
       "    <tr>\n",
       "      <th>8</th>\n",
       "      <td>Dec-2022</td>\n",
       "      <td>@WallStreetSilv I work for IBM and we’ve been ...</td>\n",
       "      <td>GoatMilkSol</td>\n",
       "    </tr>\n",
       "    <tr>\n",
       "      <th>9</th>\n",
       "      <td>Dec-2022</td>\n",
       "      <td>@Stephanie_Link @IBM @ArvindKrishna Says a lot...</td>\n",
       "      <td>Germanbulll</td>\n",
       "    </tr>\n",
       "  </tbody>\n",
       "</table>\n",
       "</div>"
      ],
      "text/plain": [
       "   Datetime                                               Text  \\\n",
       "0  Dec-2022  #IBMCorp $IBM Monthwise Daily High - Low Movem...   \n",
       "1  Dec-2022  Technology wasn't advanced to help the people....   \n",
       "2  Dec-2022  @GilmanHill @Stephanie_Link You guys making a ...   \n",
       "3  Dec-2022  @GillianStaveley @CBD_COP15 @DenaKayeh 2/2..pr...   \n",
       "4  Dec-2022  @Dave_M748 @PR0GRAMMERHUM0R The funny thing is...   \n",
       "5  Dec-2022  @lindyli There are thousands of US companies i...   \n",
       "6  Dec-2022  IBM Stock Uplifting Gains, Is the ideal time t...   \n",
       "7  Dec-2022  @leesmithswrkshp Standard configuration should...   \n",
       "8  Dec-2022  @WallStreetSilv I work for IBM and we’ve been ...   \n",
       "9  Dec-2022  @Stephanie_Link @IBM @ArvindKrishna Says a lot...   \n",
       "\n",
       "          Username  \n",
       "0     AbhipraGroup  \n",
       "1  HealnLuvHistory  \n",
       "2  christi10006880  \n",
       "3    RebelPikeMike  \n",
       "4       nickoasdf1  \n",
       "5   american4sense  \n",
       "6    cryptonewz_io  \n",
       "7        noisetank  \n",
       "8      GoatMilkSol  \n",
       "9      Germanbulll  "
      ]
     },
     "execution_count": 46,
     "metadata": {},
     "output_type": "execute_result"
    }
   ],
   "source": [
    "#Load Dataset\n",
    "ibm_df = pd.read_csv('Dataset/Companies/ibm.csv')\n",
    "ibm_df.head(10)"
   ]
  },
  {
   "cell_type": "code",
   "execution_count": 47,
   "metadata": {},
   "outputs": [],
   "source": [
    "ibm_dec22 = ibm_df[ibm_df['Datetime'] == 'Dec-2022']\n",
    "ibm_jan23 = ibm_df[ibm_df['Datetime'] == 'Jan-2023']\n",
    "ibm_feb23 = ibm_df[ibm_df['Datetime'] == 'Feb-2023']"
   ]
  },
  {
   "cell_type": "code",
   "execution_count": 48,
   "metadata": {},
   "outputs": [],
   "source": [
    "#Remove URLs\n",
    "ibm_dec22= ibm_dec22['Text'].apply(lambda x: re.sub(r'https?:\\/\\/\\S+', '', x))\n",
    "ibm_jan23= ibm_jan23['Text'].apply(lambda x: re.sub(r'https?:\\/\\/\\S+', '', x))\n",
    "ibm_feb23= ibm_feb23['Text'].apply(lambda x: re.sub(r'https?:\\/\\/\\S+', '', x))"
   ]
  },
  {
   "cell_type": "code",
   "execution_count": 49,
   "metadata": {},
   "outputs": [],
   "source": [
    "#Remove HTML Reference Characters\n",
    "ibm_dec22 = ibm_dec22.apply(lambda x: re.sub(r'&[a-z]+;', '', x))\n",
    "ibm_jan23 = ibm_jan23.apply(lambda x: re.sub(r'&[a-z]+;', '', x))\n",
    "ibm_feb23 = ibm_feb23.apply(lambda x: re.sub(r'&[a-z]+;', '', x))"
   ]
  },
  {
   "cell_type": "code",
   "execution_count": 50,
   "metadata": {},
   "outputs": [],
   "source": [
    "#Remove Twitter Handles\n",
    "ibm_dec22 = ibm_dec22.apply(lambda x: re.sub(r'@[^ ]+', '', x))\n",
    "ibm_jan23 = ibm_jan23.apply(lambda x: re.sub(r'@[^ ]+', '', x))\n",
    "ibm_feb23 = ibm_feb23.apply(lambda x: re.sub(r'@[^ ]+', '', x))"
   ]
  },
  {
   "cell_type": "code",
   "execution_count": 51,
   "metadata": {},
   "outputs": [
    {
     "name": "stdout",
     "output_type": "stream",
     "text": [
      "IBM Sentiments Dec 2022\n",
      "Negativity: 0.029082352941176486\n",
      "Positivity: 0.09732773109243696\n",
      "Neutral: 0.8735764705882355\n",
      "Compound: 0.23479243697479\n"
     ]
    }
   ],
   "source": [
    "dec_list = []\n",
    "for i in range(len(ibm_dec22)):\n",
    "    vs = analyzer.polarity_scores(ibm_dec22[i])\n",
    "    dec_list.append(vs)\n",
    "\n",
    "neg = 0\n",
    "pos = 0\n",
    "neu = 0\n",
    "compound = 0\n",
    "for i in dec_list:\n",
    "    neg += i['neg']\n",
    "    pos += i['pos']\n",
    "    neu += i['neu']\n",
    "    compound += i['compound']\n",
    "\n",
    "x = len(dec_list)   \n",
    "dec_neg = neg/x\n",
    "dec_pos = pos/x\n",
    "dec_neu= neu/x\n",
    "dec_compound = compound/x\n",
    "\n",
    "print('IBM Sentiments Dec 2022')\n",
    "print('Negativity: '+ str(dec_neg))\n",
    "print('Positivity: '+ str(dec_pos))\n",
    "print('Neutral: '+ str(dec_neu))\n",
    "print('Compound: '+ str(dec_compound))"
   ]
  },
  {
   "cell_type": "code",
   "execution_count": 52,
   "metadata": {},
   "outputs": [
    {
     "name": "stdout",
     "output_type": "stream",
     "text": [
      "IBM Sentiments Jan 2023\n",
      "Negativity: 0.07757262905162074\n",
      "Positivity: 0.05384393757503003\n",
      "Neutral: 0.8685810324129644\n",
      "Compound: -0.01858199279711877\n"
     ]
    }
   ],
   "source": [
    "jan_list = []\n",
    "for i in ibm_jan23:\n",
    "    vs = analyzer.polarity_scores(i)\n",
    "    jan_list.append(vs)\n",
    "\n",
    "neg = 0\n",
    "pos = 0\n",
    "neu = 0\n",
    "compound = 0\n",
    "for i in jan_list:\n",
    "    neg += i['neg']\n",
    "    pos += i['pos']\n",
    "    neu += i['neu']\n",
    "    compound += i['compound']\n",
    "\n",
    "x = len(jan_list)   \n",
    "jan_neg = neg/x\n",
    "jan_pos = pos/x\n",
    "jan_neu= neu/x\n",
    "jan_compound = compound/x\n",
    "\n",
    "print('IBM Sentiments Jan 2023')\n",
    "print('Negativity: '+ str(jan_neg))\n",
    "print('Positivity: '+ str(jan_pos))\n",
    "print('Neutral: '+ str(jan_neu))\n",
    "print('Compound: '+ str(jan_compound))"
   ]
  },
  {
   "cell_type": "code",
   "execution_count": 53,
   "metadata": {},
   "outputs": [
    {
     "name": "stdout",
     "output_type": "stream",
     "text": [
      "IBM Sentiments Feb 2023\n",
      "Negativity: 0.03753318824809575\n",
      "Positivity: 0.09026768226332961\n",
      "Neutral: 0.8722154515778011\n",
      "Compound: 0.1833853101196954\n"
     ]
    }
   ],
   "source": [
    "feb_list = []\n",
    "for i in ibm_feb23:\n",
    "    vs = analyzer.polarity_scores(i)\n",
    "    feb_list.append(vs)\n",
    "\n",
    "neg = 0\n",
    "pos = 0\n",
    "neu = 0\n",
    "compound = 0\n",
    "for i in feb_list:\n",
    "    neg += i['neg']\n",
    "    pos += i['pos']\n",
    "    neu += i['neu']\n",
    "    compound += i['compound']\n",
    "\n",
    "x = len(feb_list)   \n",
    "feb_neg = neg/x\n",
    "feb_pos = pos/x\n",
    "feb_neu= neu/x\n",
    "feb_compound = compound/x\n",
    "\n",
    "print('IBM Sentiments Feb 2023')\n",
    "print('Negativity: '+ str(feb_neg))\n",
    "print('Positivity: '+ str(feb_pos))\n",
    "print('Neutral: '+ str(feb_neu))\n",
    "print('Compound: '+ str(feb_compound))\n"
   ]
  },
  {
   "cell_type": "markdown",
   "metadata": {},
   "source": [
    "# Apple"
   ]
  },
  {
   "cell_type": "code",
   "execution_count": 54,
   "metadata": {},
   "outputs": [
    {
     "data": {
      "text/html": [
       "<div>\n",
       "<style scoped>\n",
       "    .dataframe tbody tr th:only-of-type {\n",
       "        vertical-align: middle;\n",
       "    }\n",
       "\n",
       "    .dataframe tbody tr th {\n",
       "        vertical-align: top;\n",
       "    }\n",
       "\n",
       "    .dataframe thead th {\n",
       "        text-align: right;\n",
       "    }\n",
       "</style>\n",
       "<table border=\"1\" class=\"dataframe\">\n",
       "  <thead>\n",
       "    <tr style=\"text-align: right;\">\n",
       "      <th></th>\n",
       "      <th>Datetime</th>\n",
       "      <th>Text</th>\n",
       "      <th>Username</th>\n",
       "    </tr>\n",
       "  </thead>\n",
       "  <tbody>\n",
       "    <tr>\n",
       "      <th>0</th>\n",
       "      <td>Dec-2022</td>\n",
       "      <td>@dhoroiloh does this work with red apples</td>\n",
       "      <td>killizerk</td>\n",
       "    </tr>\n",
       "    <tr>\n",
       "      <th>1</th>\n",
       "      <td>Dec-2022</td>\n",
       "      <td>@Nothennyfr Buy Apple stock</td>\n",
       "      <td>Tone_Fusion</td>\n",
       "    </tr>\n",
       "    <tr>\n",
       "      <th>2</th>\n",
       "      <td>Dec-2022</td>\n",
       "      <td>@Nothennyfr Buy Apple Stock</td>\n",
       "      <td>benedictm</td>\n",
       "    </tr>\n",
       "    <tr>\n",
       "      <th>3</th>\n",
       "      <td>Dec-2022</td>\n",
       "      <td>Bro I just wanted my pickle and chocolate cove...</td>\n",
       "      <td>BreskiDaDon</td>\n",
       "    </tr>\n",
       "    <tr>\n",
       "      <th>4</th>\n",
       "      <td>Dec-2022</td>\n",
       "      <td>4. BLACK BIRD\\n\\nA complex crime drama that ne...</td>\n",
       "      <td>howatdk</td>\n",
       "    </tr>\n",
       "    <tr>\n",
       "      <th>5</th>\n",
       "      <td>Dec-2022</td>\n",
       "      <td>@newnjpt2 @neiltyson -  deemed that as a unfai...</td>\n",
       "      <td>PhattGreg</td>\n",
       "    </tr>\n",
       "    <tr>\n",
       "      <th>6</th>\n",
       "      <td>Dec-2022</td>\n",
       "      <td>Here’s the thing. I’ll be okay. But every year...</td>\n",
       "      <td>imdaramenmastaa</td>\n",
       "    </tr>\n",
       "    <tr>\n",
       "      <th>7</th>\n",
       "      <td>Dec-2022</td>\n",
       "      <td>@PeterSchiff Jeez it would be like selling app...</td>\n",
       "      <td>a5rar</td>\n",
       "    </tr>\n",
       "    <tr>\n",
       "      <th>8</th>\n",
       "      <td>Dec-2022</td>\n",
       "      <td>The fact that Apple Maps knows where I work an...</td>\n",
       "      <td>wavewithteeth</td>\n",
       "    </tr>\n",
       "    <tr>\n",
       "      <th>9</th>\n",
       "      <td>Dec-2022</td>\n",
       "      <td>@caseycalvertxxx If you go into accessibility ...</td>\n",
       "      <td>JediCapybara</td>\n",
       "    </tr>\n",
       "  </tbody>\n",
       "</table>\n",
       "</div>"
      ],
      "text/plain": [
       "   Datetime                                               Text  \\\n",
       "0  Dec-2022          @dhoroiloh does this work with red apples   \n",
       "1  Dec-2022                        @Nothennyfr Buy Apple stock   \n",
       "2  Dec-2022                        @Nothennyfr Buy Apple Stock   \n",
       "3  Dec-2022  Bro I just wanted my pickle and chocolate cove...   \n",
       "4  Dec-2022  4. BLACK BIRD\\n\\nA complex crime drama that ne...   \n",
       "5  Dec-2022  @newnjpt2 @neiltyson -  deemed that as a unfai...   \n",
       "6  Dec-2022  Here’s the thing. I’ll be okay. But every year...   \n",
       "7  Dec-2022  @PeterSchiff Jeez it would be like selling app...   \n",
       "8  Dec-2022  The fact that Apple Maps knows where I work an...   \n",
       "9  Dec-2022  @caseycalvertxxx If you go into accessibility ...   \n",
       "\n",
       "          Username  \n",
       "0        killizerk  \n",
       "1      Tone_Fusion  \n",
       "2        benedictm  \n",
       "3      BreskiDaDon  \n",
       "4          howatdk  \n",
       "5        PhattGreg  \n",
       "6  imdaramenmastaa  \n",
       "7            a5rar  \n",
       "8    wavewithteeth  \n",
       "9     JediCapybara  "
      ]
     },
     "execution_count": 54,
     "metadata": {},
     "output_type": "execute_result"
    }
   ],
   "source": [
    "#Load Dataset\n",
    "apple_df = pd.read_csv('Dataset/Companies/apple.csv')\n",
    "apple_df.head(10)"
   ]
  },
  {
   "cell_type": "code",
   "execution_count": 55,
   "metadata": {},
   "outputs": [],
   "source": [
    "apple_dec22 = apple_df[apple_df['Datetime'] == 'Dec-2022']\n",
    "apple_jan23 = apple_df[apple_df['Datetime'] == 'Jan-2023']\n",
    "apple_feb23 = apple_df[apple_df['Datetime'] == 'Feb-2023']"
   ]
  },
  {
   "cell_type": "code",
   "execution_count": 56,
   "metadata": {},
   "outputs": [],
   "source": [
    "#Remove URLs\n",
    "apple_dec22= apple_dec22['Text'].apply(lambda x: re.sub(r'https?:\\/\\/\\S+', '', x))\n",
    "apple_jan23= apple_jan23['Text'].apply(lambda x: re.sub(r'https?:\\/\\/\\S+', '', x))\n",
    "apple_feb23= apple_feb23['Text'].apply(lambda x: re.sub(r'https?:\\/\\/\\S+', '', x))"
   ]
  },
  {
   "cell_type": "code",
   "execution_count": 57,
   "metadata": {},
   "outputs": [],
   "source": [
    "#Remove HTML Reference Characters\n",
    "apple_dec22 = apple_dec22.apply(lambda x: re.sub(r'&[a-z]+;', '', x))\n",
    "apple_jan23 = apple_jan23.apply(lambda x: re.sub(r'&[a-z]+;', '', x))\n",
    "apple_feb23 = apple_feb23.apply(lambda x: re.sub(r'&[a-z]+;', '', x))"
   ]
  },
  {
   "cell_type": "code",
   "execution_count": 58,
   "metadata": {},
   "outputs": [],
   "source": [
    "#Remove Twitter Handles\n",
    "apple_dec22 = apple_dec22.apply(lambda x: re.sub(r'@[^ ]+', '', x))\n",
    "apple_jan23 = apple_jan23.apply(lambda x: re.sub(r'@[^ ]+', '', x))\n",
    "apple_feb23 = apple_feb23.apply(lambda x: re.sub(r'@[^ ]+', '', x))"
   ]
  },
  {
   "cell_type": "code",
   "execution_count": 59,
   "metadata": {},
   "outputs": [
    {
     "name": "stdout",
     "output_type": "stream",
     "text": [
      "Apple Sentiments Dec 2022\n",
      "Negativity: 0.056541330645161265\n",
      "Positivity: 0.10142842741935477\n",
      "Neutral: 0.842046370967742\n",
      "Compound: 0.16505241935483872\n"
     ]
    }
   ],
   "source": [
    "dec_list = []\n",
    "for i in range(len(apple_dec22)):\n",
    "    vs = analyzer.polarity_scores(apple_dec22[i])\n",
    "    dec_list.append(vs)\n",
    "\n",
    "neg = 0\n",
    "pos = 0\n",
    "neu = 0\n",
    "compound = 0\n",
    "for i in dec_list:\n",
    "    neg += i['neg']\n",
    "    pos += i['pos']\n",
    "    neu += i['neu']\n",
    "    compound += i['compound']\n",
    "\n",
    "x = len(dec_list)   \n",
    "dec_neg = neg/x\n",
    "dec_pos = pos/x\n",
    "dec_neu= neu/x\n",
    "dec_compound = compound/x\n",
    "\n",
    "print('Apple Sentiments Dec 2022')\n",
    "print('Negativity: '+ str(dec_neg))\n",
    "print('Positivity: '+ str(dec_pos))\n",
    "print('Neutral: '+ str(dec_neu))\n",
    "print('Compound: '+ str(dec_compound))"
   ]
  },
  {
   "cell_type": "code",
   "execution_count": 60,
   "metadata": {},
   "outputs": [
    {
     "name": "stdout",
     "output_type": "stream",
     "text": [
      "Apple Sentiments Jan 2023\n",
      "Negativity: 0.063991959798995\n",
      "Positivity: 0.0931618090452262\n",
      "Neutral: 0.8428402010050251\n",
      "Compound: 0.10537989949748744\n"
     ]
    }
   ],
   "source": [
    "jan_list = []\n",
    "for i in apple_jan23:\n",
    "    vs = analyzer.polarity_scores(i)\n",
    "    jan_list.append(vs)\n",
    "\n",
    "neg = 0\n",
    "pos = 0\n",
    "neu = 0\n",
    "compound = 0\n",
    "for i in jan_list:\n",
    "    neg += i['neg']\n",
    "    pos += i['pos']\n",
    "    neu += i['neu']\n",
    "    compound += i['compound']\n",
    "\n",
    "x = len(jan_list)   \n",
    "jan_neg = neg/x\n",
    "jan_pos = pos/x\n",
    "jan_neu= neu/x\n",
    "jan_compound = compound/x\n",
    "\n",
    "print('Apple Sentiments Jan 2023')\n",
    "print('Negativity: '+ str(jan_neg))\n",
    "print('Positivity: '+ str(jan_pos))\n",
    "print('Neutral: '+ str(jan_neu))\n",
    "print('Compound: '+ str(jan_compound))"
   ]
  },
  {
   "cell_type": "code",
   "execution_count": 61,
   "metadata": {},
   "outputs": [
    {
     "name": "stdout",
     "output_type": "stream",
     "text": [
      "Apple Sentiments Feb 2023\n",
      "Negativity: 0.0503507537688442\n",
      "Positivity: 0.09532562814070356\n",
      "Neutral: 0.8543135678391957\n",
      "Compound: 0.15522291457286416\n"
     ]
    }
   ],
   "source": [
    "feb_list = []\n",
    "for i in apple_feb23:\n",
    "    vs = analyzer.polarity_scores(i)\n",
    "    feb_list.append(vs)\n",
    "\n",
    "neg = 0\n",
    "pos = 0\n",
    "neu = 0\n",
    "compound = 0\n",
    "for i in feb_list:\n",
    "    neg += i['neg']\n",
    "    pos += i['pos']\n",
    "    neu += i['neu']\n",
    "    compound += i['compound']\n",
    "\n",
    "x = len(feb_list)   \n",
    "feb_neg = neg/x\n",
    "feb_pos = pos/x\n",
    "feb_neu= neu/x\n",
    "feb_compound = compound/x\n",
    "\n",
    "print('Apple Sentiments Feb 2023')\n",
    "print('Negativity: '+ str(feb_neg))\n",
    "print('Positivity: '+ str(feb_pos))\n",
    "print('Neutral: '+ str(feb_neu))\n",
    "print('Compound: '+ str(feb_compound))\n"
   ]
  },
  {
   "cell_type": "markdown",
   "metadata": {},
   "source": [
    "# google "
   ]
  },
  {
   "cell_type": "code",
   "execution_count": 62,
   "metadata": {},
   "outputs": [
    {
     "data": {
      "text/html": [
       "<div>\n",
       "<style scoped>\n",
       "    .dataframe tbody tr th:only-of-type {\n",
       "        vertical-align: middle;\n",
       "    }\n",
       "\n",
       "    .dataframe tbody tr th {\n",
       "        vertical-align: top;\n",
       "    }\n",
       "\n",
       "    .dataframe thead th {\n",
       "        text-align: right;\n",
       "    }\n",
       "</style>\n",
       "<table border=\"1\" class=\"dataframe\">\n",
       "  <thead>\n",
       "    <tr style=\"text-align: right;\">\n",
       "      <th></th>\n",
       "      <th>Datetime</th>\n",
       "      <th>Text</th>\n",
       "      <th>Username</th>\n",
       "    </tr>\n",
       "  </thead>\n",
       "  <tbody>\n",
       "    <tr>\n",
       "      <th>0</th>\n",
       "      <td>Dec-2022</td>\n",
       "      <td>@YaYaOregon Google gets a lot of work with som...</td>\n",
       "      <td>Canaansdad1987</td>\n",
       "    </tr>\n",
       "    <tr>\n",
       "      <th>1</th>\n",
       "      <td>Dec-2022</td>\n",
       "      <td>SOCIALIZED MEDIA: HUNDREDS OF ISRAEL’S UNIT 82...</td>\n",
       "      <td>Tibou33969029</td>\n",
       "    </tr>\n",
       "    <tr>\n",
       "      <th>2</th>\n",
       "      <td>Dec-2022</td>\n",
       "      <td>@kennyraytheman @TimRunsHisMouth If you google...</td>\n",
       "      <td>kikjuicer9</td>\n",
       "    </tr>\n",
       "    <tr>\n",
       "      <th>3</th>\n",
       "      <td>Dec-2022</td>\n",
       "      <td>@jrozner at least she didn’t google it on her ...</td>\n",
       "      <td>oota</td>\n",
       "    </tr>\n",
       "    <tr>\n",
       "      <th>4</th>\n",
       "      <td>Dec-2022</td>\n",
       "      <td>@TAILZZZZZZ @stock_con_ @GeeScottSr @RNCResear...</td>\n",
       "      <td>ThotBoutit</td>\n",
       "    </tr>\n",
       "    <tr>\n",
       "      <th>5</th>\n",
       "      <td>Dec-2022</td>\n",
       "      <td>@FPSBoomerGames @JokrMeta Yep google right now...</td>\n",
       "      <td>Arsolanda3</td>\n",
       "    </tr>\n",
       "    <tr>\n",
       "      <th>6</th>\n",
       "      <td>Dec-2022</td>\n",
       "      <td>@fesshole Or get a grip,take a flask to work l...</td>\n",
       "      <td>kopwoman</td>\n",
       "    </tr>\n",
       "    <tr>\n",
       "      <th>7</th>\n",
       "      <td>Dec-2022</td>\n",
       "      <td>@sisterslilith @Warrior_nun808 If anyone inter...</td>\n",
       "      <td>PraiseAdriel</td>\n",
       "    </tr>\n",
       "    <tr>\n",
       "      <th>8</th>\n",
       "      <td>Dec-2022</td>\n",
       "      <td>@ryjsun i tried to translate on google but it ...</td>\n",
       "      <td>haewonzs</td>\n",
       "    </tr>\n",
       "    <tr>\n",
       "      <th>9</th>\n",
       "      <td>Dec-2022</td>\n",
       "      <td>@karmakkaze @CollinRugg If they knew how to wo...</td>\n",
       "      <td>YrmHustlesSTRAT</td>\n",
       "    </tr>\n",
       "  </tbody>\n",
       "</table>\n",
       "</div>"
      ],
      "text/plain": [
       "   Datetime                                               Text  \\\n",
       "0  Dec-2022  @YaYaOregon Google gets a lot of work with som...   \n",
       "1  Dec-2022  SOCIALIZED MEDIA: HUNDREDS OF ISRAEL’S UNIT 82...   \n",
       "2  Dec-2022  @kennyraytheman @TimRunsHisMouth If you google...   \n",
       "3  Dec-2022  @jrozner at least she didn’t google it on her ...   \n",
       "4  Dec-2022  @TAILZZZZZZ @stock_con_ @GeeScottSr @RNCResear...   \n",
       "5  Dec-2022  @FPSBoomerGames @JokrMeta Yep google right now...   \n",
       "6  Dec-2022  @fesshole Or get a grip,take a flask to work l...   \n",
       "7  Dec-2022  @sisterslilith @Warrior_nun808 If anyone inter...   \n",
       "8  Dec-2022  @ryjsun i tried to translate on google but it ...   \n",
       "9  Dec-2022  @karmakkaze @CollinRugg If they knew how to wo...   \n",
       "\n",
       "          Username  \n",
       "0   Canaansdad1987  \n",
       "1    Tibou33969029  \n",
       "2       kikjuicer9  \n",
       "3             oota  \n",
       "4       ThotBoutit  \n",
       "5       Arsolanda3  \n",
       "6         kopwoman  \n",
       "7     PraiseAdriel  \n",
       "8         haewonzs  \n",
       "9  YrmHustlesSTRAT  "
      ]
     },
     "execution_count": 62,
     "metadata": {},
     "output_type": "execute_result"
    }
   ],
   "source": [
    "#Load Dataset\n",
    "google_df = pd.read_csv('Dataset/Companies/google.csv')\n",
    "google_df.head(10)"
   ]
  },
  {
   "cell_type": "code",
   "execution_count": 63,
   "metadata": {},
   "outputs": [],
   "source": [
    "google_dec22 = google_df[google_df['Datetime'] == 'Dec-2022']\n",
    "google_jan23 = google_df[google_df['Datetime'] == 'Jan-2023']\n",
    "google_feb23 = google_df[google_df['Datetime'] == 'Feb-2023']"
   ]
  },
  {
   "cell_type": "code",
   "execution_count": 64,
   "metadata": {},
   "outputs": [],
   "source": [
    "#Remove URLs\n",
    "google_dec22= google_dec22['Text'].apply(lambda x: re.sub(r'https?:\\/\\/\\S+', '', x))\n",
    "google_jan23= google_jan23['Text'].apply(lambda x: re.sub(r'https?:\\/\\/\\S+', '', x))\n",
    "google_feb23= google_feb23['Text'].apply(lambda x: re.sub(r'https?:\\/\\/\\S+', '', x))"
   ]
  },
  {
   "cell_type": "code",
   "execution_count": 65,
   "metadata": {},
   "outputs": [],
   "source": [
    "#Remove HTML Reference Characters\n",
    "google_dec22 = google_dec22.apply(lambda x: re.sub(r'&[a-z]+;', '', x))\n",
    "google_jan23 = google_jan23.apply(lambda x: re.sub(r'&[a-z]+;', '', x))\n",
    "google_feb23 = google_feb23.apply(lambda x: re.sub(r'&[a-z]+;', '', x))"
   ]
  },
  {
   "cell_type": "code",
   "execution_count": 66,
   "metadata": {},
   "outputs": [],
   "source": [
    "#Remove Twitter Handles\n",
    "google_dec22 = google_dec22.apply(lambda x: re.sub(r'@[^ ]+', '', x))\n",
    "google_jan23 = google_jan23.apply(lambda x: re.sub(r'@[^ ]+', '', x))\n",
    "google_feb23 = google_feb23.apply(lambda x: re.sub(r'@[^ ]+', '', x))"
   ]
  },
  {
   "cell_type": "code",
   "execution_count": 67,
   "metadata": {},
   "outputs": [
    {
     "name": "stdout",
     "output_type": "stream",
     "text": [
      "Google Sentiments Dec 2022\n",
      "Negativity: 0.04913026052104208\n",
      "Positivity: 0.10115531062124239\n",
      "Neutral: 0.8497034068136268\n",
      "Compound: 0.1854115230460923\n"
     ]
    }
   ],
   "source": [
    "dec_list = []\n",
    "for i in range(len(google_dec22)):\n",
    "    vs = analyzer.polarity_scores(google_dec22[i])\n",
    "    dec_list.append(vs)\n",
    "\n",
    "neg = 0\n",
    "pos = 0\n",
    "neu = 0\n",
    "compound = 0\n",
    "for i in dec_list:\n",
    "    neg += i['neg']\n",
    "    pos += i['pos']\n",
    "    neu += i['neu']\n",
    "    compound += i['compound']\n",
    "\n",
    "x = len(dec_list)   \n",
    "dec_neg = neg/x\n",
    "dec_pos = pos/x\n",
    "dec_neu= neu/x\n",
    "dec_compound = compound/x\n",
    "\n",
    "print('Google Sentiments Dec 2022')\n",
    "print('Negativity: '+ str(dec_neg))\n",
    "print('Positivity: '+ str(dec_pos))\n",
    "print('Neutral: '+ str(dec_neu))\n",
    "print('Compound: '+ str(dec_compound))"
   ]
  },
  {
   "cell_type": "code",
   "execution_count": 68,
   "metadata": {},
   "outputs": [
    {
     "name": "stdout",
     "output_type": "stream",
     "text": [
      "Google Sentiments Jan 2023\n",
      "Negativity: 0.055808808808808764\n",
      "Positivity: 0.09758458458458456\n",
      "Neutral: 0.8466116116116126\n",
      "Compound: 0.14096106106106088\n"
     ]
    }
   ],
   "source": [
    "jan_list = []\n",
    "for i in google_jan23:\n",
    "    vs = analyzer.polarity_scores(i)\n",
    "    jan_list.append(vs)\n",
    "\n",
    "neg = 0\n",
    "pos = 0\n",
    "neu = 0\n",
    "compound = 0\n",
    "for i in jan_list:\n",
    "    neg += i['neg']\n",
    "    pos += i['pos']\n",
    "    neu += i['neu']\n",
    "    compound += i['compound']\n",
    "\n",
    "x = len(jan_list)   \n",
    "jan_neg = neg/x\n",
    "jan_pos = pos/x\n",
    "jan_neu= neu/x\n",
    "jan_compound = compound/x\n",
    "\n",
    "print('Google Sentiments Jan 2023')\n",
    "print('Negativity: '+ str(jan_neg))\n",
    "print('Positivity: '+ str(jan_pos))\n",
    "print('Neutral: '+ str(jan_neu))\n",
    "print('Compound: '+ str(jan_compound))"
   ]
  },
  {
   "cell_type": "code",
   "execution_count": 69,
   "metadata": {},
   "outputs": [
    {
     "name": "stdout",
     "output_type": "stream",
     "text": [
      "Google Sentiments Feb 2023\n",
      "Negativity: 0.04953969849246236\n",
      "Positivity: 0.09867638190954776\n",
      "Neutral: 0.8517839195979917\n",
      "Compound: 0.17777437185929643\n"
     ]
    }
   ],
   "source": [
    "feb_list = []\n",
    "for i in google_feb23:\n",
    "    vs = analyzer.polarity_scores(i)\n",
    "    feb_list.append(vs)\n",
    "\n",
    "neg = 0\n",
    "pos = 0\n",
    "neu = 0\n",
    "compound = 0\n",
    "for i in feb_list:\n",
    "    neg += i['neg']\n",
    "    pos += i['pos']\n",
    "    neu += i['neu']\n",
    "    compound += i['compound']\n",
    "\n",
    "x = len(feb_list)   \n",
    "feb_neg = neg/x\n",
    "feb_pos = pos/x\n",
    "feb_neu= neu/x\n",
    "feb_compound = compound/x\n",
    "\n",
    "print('Google Sentiments Feb 2023')\n",
    "print('Negativity: '+ str(feb_neg))\n",
    "print('Positivity: '+ str(feb_pos))\n",
    "print('Neutral: '+ str(feb_neu))\n",
    "print('Compound: '+ str(feb_compound))\n"
   ]
  },
  {
   "cell_type": "code",
   "execution_count": null,
   "metadata": {},
   "outputs": [],
   "source": []
  }
 ],
 "metadata": {
  "kernelspec": {
   "display_name": "Python 3 (ipykernel)",
   "language": "python",
   "name": "python3"
  },
  "language_info": {
   "codemirror_mode": {
    "name": "ipython",
    "version": 3
   },
   "file_extension": ".py",
   "mimetype": "text/x-python",
   "name": "python",
   "nbconvert_exporter": "python",
   "pygments_lexer": "ipython3",
   "version": "3.9.13"
  }
 },
 "nbformat": 4,
 "nbformat_minor": 4
}
