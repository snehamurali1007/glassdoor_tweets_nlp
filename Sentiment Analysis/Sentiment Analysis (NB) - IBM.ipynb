{
 "cells": [
  {
   "cell_type": "code",
   "execution_count": 1,
   "id": "2b7a58c7",
   "metadata": {},
   "outputs": [],
   "source": [
    "#Import Necessary Modules\n",
    "import nltk\n",
    "import gensim\n",
    "import pandas as pd\n",
    "import re\n",
    "import pickle\n",
    "from nltk.tokenize import word_tokenize\n",
    "from nltk.probability import FreqDist\n",
    "from nltk.classify import NaiveBayesClassifier\n",
    "from emot.emo_unicode import UNICODE_EMOJI # For emojis\n",
    "from emot.emo_unicode import EMOTICONS_EMO # For EMOTICONS"
   ]
  },
  {
   "cell_type": "code",
   "execution_count": 2,
   "id": "750ff8c5",
   "metadata": {},
   "outputs": [
    {
     "data": {
      "text/html": [
       "<div>\n",
       "<style scoped>\n",
       "    .dataframe tbody tr th:only-of-type {\n",
       "        vertical-align: middle;\n",
       "    }\n",
       "\n",
       "    .dataframe tbody tr th {\n",
       "        vertical-align: top;\n",
       "    }\n",
       "\n",
       "    .dataframe thead th {\n",
       "        text-align: right;\n",
       "    }\n",
       "</style>\n",
       "<table border=\"1\" class=\"dataframe\">\n",
       "  <thead>\n",
       "    <tr style=\"text-align: right;\">\n",
       "      <th></th>\n",
       "      <th>Datetime</th>\n",
       "      <th>Text</th>\n",
       "      <th>Username</th>\n",
       "    </tr>\n",
       "  </thead>\n",
       "  <tbody>\n",
       "    <tr>\n",
       "      <th>0</th>\n",
       "      <td>Dec-2022</td>\n",
       "      <td>#IBMCorp $IBM Monthwise Daily High - Low Movem...</td>\n",
       "      <td>AbhipraGroup</td>\n",
       "    </tr>\n",
       "    <tr>\n",
       "      <th>1</th>\n",
       "      <td>Dec-2022</td>\n",
       "      <td>Technology wasn't advanced to help the people....</td>\n",
       "      <td>HealnLuvHistory</td>\n",
       "    </tr>\n",
       "    <tr>\n",
       "      <th>2</th>\n",
       "      <td>Dec-2022</td>\n",
       "      <td>@GilmanHill @Stephanie_Link You guys making a ...</td>\n",
       "      <td>christi10006880</td>\n",
       "    </tr>\n",
       "    <tr>\n",
       "      <th>3</th>\n",
       "      <td>Dec-2022</td>\n",
       "      <td>@GillianStaveley @CBD_COP15 @DenaKayeh 2/2..pr...</td>\n",
       "      <td>RebelPikeMike</td>\n",
       "    </tr>\n",
       "    <tr>\n",
       "      <th>4</th>\n",
       "      <td>Dec-2022</td>\n",
       "      <td>@Dave_M748 @PR0GRAMMERHUM0R The funny thing is...</td>\n",
       "      <td>nickoasdf1</td>\n",
       "    </tr>\n",
       "  </tbody>\n",
       "</table>\n",
       "</div>"
      ],
      "text/plain": [
       "   Datetime                                               Text  \\\n",
       "0  Dec-2022  #IBMCorp $IBM Monthwise Daily High - Low Movem...   \n",
       "1  Dec-2022  Technology wasn't advanced to help the people....   \n",
       "2  Dec-2022  @GilmanHill @Stephanie_Link You guys making a ...   \n",
       "3  Dec-2022  @GillianStaveley @CBD_COP15 @DenaKayeh 2/2..pr...   \n",
       "4  Dec-2022  @Dave_M748 @PR0GRAMMERHUM0R The funny thing is...   \n",
       "\n",
       "          Username  \n",
       "0     AbhipraGroup  \n",
       "1  HealnLuvHistory  \n",
       "2  christi10006880  \n",
       "3    RebelPikeMike  \n",
       "4       nickoasdf1  "
      ]
     },
     "execution_count": 2,
     "metadata": {},
     "output_type": "execute_result"
    }
   ],
   "source": [
    "#Load Dataset\n",
    "IBM_df = pd.read_csv('Dataset/Companies/ibm.csv')\n",
    "IBM_df.head()"
   ]
  },
  {
   "cell_type": "code",
   "execution_count": 3,
   "id": "94f74432",
   "metadata": {},
   "outputs": [
    {
     "name": "stdout",
     "output_type": "stream",
     "text": [
      "<class 'pandas.core.frame.DataFrame'>\n",
      "RangeIndex: 2347 entries, 0 to 2346\n",
      "Data columns (total 3 columns):\n",
      " #   Column    Non-Null Count  Dtype \n",
      "---  ------    --------------  ----- \n",
      " 0   Datetime  2347 non-null   object\n",
      " 1   Text      2347 non-null   object\n",
      " 2   Username  2347 non-null   object\n",
      "dtypes: object(3)\n",
      "memory usage: 55.1+ KB\n"
     ]
    }
   ],
   "source": [
    "IBM_df.info()"
   ]
  },
  {
   "cell_type": "code",
   "execution_count": 4,
   "id": "e6f7e5c2",
   "metadata": {},
   "outputs": [
    {
     "name": "stdout",
     "output_type": "stream",
     "text": [
      "<class 'pandas.core.frame.DataFrame'>\n",
      "Int64Index: 2322 entries, 0 to 2346\n",
      "Data columns (total 3 columns):\n",
      " #   Column    Non-Null Count  Dtype \n",
      "---  ------    --------------  ----- \n",
      " 0   Datetime  2322 non-null   object\n",
      " 1   Text      2322 non-null   object\n",
      " 2   Username  2322 non-null   object\n",
      "dtypes: object(3)\n",
      "memory usage: 72.6+ KB\n"
     ]
    }
   ],
   "source": [
    "#Drop Duplicate Rows\n",
    "IBM_df = IBM_df.drop_duplicates()\n",
    "IBM_df.info()"
   ]
  },
  {
   "cell_type": "code",
   "execution_count": 5,
   "id": "c250a546",
   "metadata": {},
   "outputs": [],
   "source": [
    "#Filter Data by Different Time Periods\n",
    "IBM_Dec22 = IBM_df[IBM_df['Datetime'] == 'Dec-2022']\n",
    "IBM_Jan23 = IBM_df[IBM_df['Datetime'] == 'Jan-2023']\n",
    "IBM_Feb23 = IBM_df[IBM_df['Datetime'] == 'Feb-2023']"
   ]
  },
  {
   "cell_type": "markdown",
   "id": "e6332839",
   "metadata": {},
   "source": [
    "# Tweets PreProcessing"
   ]
  },
  {
   "cell_type": "code",
   "execution_count": 6,
   "id": "64630e21",
   "metadata": {},
   "outputs": [],
   "source": [
    "#Remove URLs\n",
    "IBM_Dec22 = IBM_Dec22['Text'].apply(lambda x: re.sub(r'https?:\\/\\/\\S+', '', x))\n",
    "IBM_Jan23 = IBM_Jan23['Text'].apply(lambda x: re.sub(r'https?:\\/\\/\\S+', '', x))\n",
    "IBM_Feb23 = IBM_Feb23['Text'].apply(lambda x: re.sub(r'https?:\\/\\/\\S+', '', x))"
   ]
  },
  {
   "cell_type": "code",
   "execution_count": 7,
   "id": "6276294d",
   "metadata": {},
   "outputs": [],
   "source": [
    "#Remove HTML Reference Characters\n",
    "IBM_Dec22 = IBM_Dec22.apply(lambda x: re.sub(r'&[a-z]+;', '', x))\n",
    "IBM_Jan23 = IBM_Jan23.apply(lambda x: re.sub(r'&[a-z]+;', '', x))\n",
    "IBM_Feb23 = IBM_Feb23.apply(lambda x: re.sub(r'&[a-z]+;', '', x))"
   ]
  },
  {
   "cell_type": "code",
   "execution_count": 8,
   "id": "bf92d594",
   "metadata": {},
   "outputs": [],
   "source": [
    "#Remove Twitter Handles\n",
    "IBM_Dec22 = IBM_Dec22.apply(lambda x: re.sub(r'@[^ ]+', '', x))\n",
    "IBM_Jan23 = IBM_Jan23.apply(lambda x: re.sub(r'@[^ ]+', '', x))\n",
    "IBM_Feb23 = IBM_Feb23.apply(lambda x: re.sub(r'@[^ ]+', '', x))"
   ]
  },
  {
   "cell_type": "code",
   "execution_count": 9,
   "id": "29e646a5",
   "metadata": {},
   "outputs": [],
   "source": [
    "#Replace Emojis with Words\n",
    "with open('Libraries/Emoji_Dict.p', 'rb') as fp:\n",
    "    Emoji_Dict = pickle.load(fp)\n",
    "Emoji_Dict = {v: k for k, v in Emoji_Dict.items()}\n",
    "\n",
    "def convert_emojis_to_word(text):\n",
    "    for emot in Emoji_Dict:\n",
    "        text = re.sub(r'('+emot+')', \"_\".join(Emoji_Dict[emot].replace(\",\",\"\").replace(\":\",\"\").split()), text)\n",
    "    return text\n",
    "\n",
    "IBM_Dec22 = IBM_Dec22.apply(convert_emojis_to_word)\n",
    "IBM_Jan23 = IBM_Jan23.apply(convert_emojis_to_word)\n",
    "IBM_Feb23 = IBM_Feb23.apply(convert_emojis_to_word)"
   ]
  },
  {
   "cell_type": "code",
   "execution_count": 10,
   "id": "5867ee5e",
   "metadata": {},
   "outputs": [],
   "source": [
    "#Replace EMOTICONS with Words\n",
    "with open('Libraries/Emoticon_Dict.p', 'rb') as fp:\n",
    "    Emoticon_Dict = pickle.load(fp)\n",
    "\n",
    "def convert_emoticons(text):\n",
    "    for emot in Emoticon_Dict:\n",
    "        text = re.sub(u'('+emot+')', \"_\".join(Emoticon_Dict[emot].replace(\",\",\"\").split()), text)\n",
    "    return text\n",
    "\n",
    "IBM_Dec22 = IBM_Dec22.apply(convert_emoticons)\n",
    "IBM_Jan23 = IBM_Jan23.apply(convert_emoticons)\n",
    "IBM_Feb23 = IBM_Feb23.apply(convert_emoticons)"
   ]
  },
  {
   "cell_type": "markdown",
   "id": "a6edb24d",
   "metadata": {},
   "source": [
    "# Perform Naive Bayes Classification"
   ]
  },
  {
   "cell_type": "code",
   "execution_count": 11,
   "id": "825b3a82",
   "metadata": {},
   "outputs": [],
   "source": [
    "#Load Training Dataset\n",
    "training_dataset = pd.read_csv('Dataset/Training/training_dataset.csv', encoding='latin-1')\n",
    "\n",
    "#Create Training Data\n",
    "train_text = []\n",
    "for index,row in training_dataset.iterrows():\n",
    "    train_text.append((row['Text'], row['Label']))\n",
    "\n",
    "#Feature Extraction Function\n",
    "def extract_features(text):\n",
    "    words = word_tokenize(text)\n",
    "    return dict((word, True) for word in words)\n",
    "\n",
    "#Create Feature Sets from Training Data\n",
    "train_features = [(extract_features(text), label) for (text, label) in train_text]\n",
    "\n",
    "#Train the Classifier\n",
    "classifier = NaiveBayesClassifier.train(train_features)\n",
    "\n",
    "#For IBM December 2022\n",
    "test_df1 = IBM_Dec22.to_frame()\n",
    "for index,row in test_df1.iterrows():\n",
    "    test_features = extract_features(row['Text'])\n",
    "    predicted_label = classifier.classify(test_features)\n",
    "    test_df1.at[index,'sentiment'] = predicted_label\n",
    "    \n",
    "#For IBM January 2023\n",
    "test_df2 = IBM_Jan23.to_frame()\n",
    "for index,row in test_df2.iterrows():\n",
    "    test_features = extract_features(row['Text'])\n",
    "    predicted_label = classifier.classify(test_features)\n",
    "    test_df2.at[index,'sentiment'] = predicted_label\n",
    "    \n",
    "#For IBM Februrary 2023\n",
    "test_df3 = IBM_Feb23.to_frame()\n",
    "for index,row in test_df3.iterrows():\n",
    "    test_features = extract_features(row['Text'])\n",
    "    predicted_label = classifier.classify(test_features)\n",
    "    test_df3.at[index,'sentiment'] = predicted_label\n",
    "\n",
    "#Export Sentiments Predicted Dataset\n",
    "test_df1.to_csv(\"Dataset/Sentiments Predicted/IBMDec22_Sentiments.csv\")\n",
    "test_df2.to_csv(\"Dataset/Sentiments Predicted/IBMJan23_Sentiments.csv\")\n",
    "test_df3.to_csv(\"Dataset/Sentiments Predicted/IBMFeb23_Sentiments.csv\")"
   ]
  },
  {
   "cell_type": "markdown",
   "id": "c17c070e",
   "metadata": {},
   "source": [
    "# Analysis of Output"
   ]
  },
  {
   "cell_type": "code",
   "execution_count": 12,
   "id": "7841d11a",
   "metadata": {},
   "outputs": [
    {
     "name": "stdout",
     "output_type": "stream",
     "text": [
      "IBM December 2022\n",
      "Positive Labels: 0.23129251700680273\n",
      "Negative Labels: 0.7108843537414966\n",
      "Neutral Labels: 0.05782312925170068\n",
      "--------------------\n",
      "IBM January 2023\n",
      "Positive Labels: 0.21428571428571427\n",
      "Negative Labels: 0.648910411622276\n",
      "Neutral Labels: 0.1368038740920097\n",
      "--------------------\n",
      "IBM February 2023\n",
      "Positive Labels: 0.26762114537444937\n",
      "Negative Labels: 0.6773127753303965\n",
      "Neutral Labels: 0.05506607929515418\n"
     ]
    }
   ],
   "source": [
    "#Load Dataset\n",
    "IBM_Dec22 = pd.read_csv(\"Dataset/Sentiments Predicted/IBMDec22_Sentiments.csv\", encoding='latin-1')\n",
    "IBM_Jan23 = pd.read_csv(\"Dataset/Sentiments Predicted/IBMJan23_Sentiments.csv\", encoding='latin-1')\n",
    "IBM_Feb23 = pd.read_csv(\"Dataset/Sentiments Predicted/IBMFeb23_Sentiments.csv\", encoding='latin-1')\n",
    "\n",
    "#Used to Store the Labels & Total Number of Tweets\n",
    "labels_IBM_Dec22 = []\n",
    "count_IBM_Dec22 = 0\n",
    "labels_IBM_Jan23 = []\n",
    "count_IBM_Jan23 = 0\n",
    "labels_IBM_Feb23 = []\n",
    "count_IBM_Feb23 = 0\n",
    "\n",
    "#For IBM December 2022\n",
    "for index,row in IBM_Dec22.iterrows():\n",
    "    labels_IBM_Dec22.append(row['sentiment'])\n",
    "    count_IBM_Dec22 += 1\n",
    "\n",
    "#Count the Number of Positive, Negative and Neutral Labels\n",
    "num_positives = labels_IBM_Dec22.count('pos')\n",
    "num_negatives = labels_IBM_Dec22.count('neg')\n",
    "num_neutral = labels_IBM_Dec22.count('neu')\n",
    "\n",
    "#Print the Results\n",
    "print('IBM December 2022')\n",
    "print('Positive Labels:', num_positives/count_IBM_Dec22)\n",
    "print('Negative Labels:', num_negatives/count_IBM_Dec22)\n",
    "print('Neutral Labels:', num_neutral/count_IBM_Dec22)\n",
    "\n",
    "\n",
    "#For IBM January 2023\n",
    "for index,row in IBM_Jan23.iterrows():\n",
    "    labels_IBM_Jan23.append(row['sentiment'])\n",
    "    count_IBM_Jan23 += 1\n",
    "\n",
    "#Count the Number of Positive, Negative and Neutral Labels\n",
    "num_positives = labels_IBM_Jan23.count('pos')\n",
    "num_negatives = labels_IBM_Jan23.count('neg')\n",
    "num_neutral = labels_IBM_Jan23.count('neu')\n",
    "\n",
    "#Print the Results\n",
    "print('--------------------')\n",
    "print('IBM January 2023')\n",
    "print('Positive Labels:', num_positives/count_IBM_Jan23)\n",
    "print('Negative Labels:', num_negatives/count_IBM_Jan23)\n",
    "print('Neutral Labels:', num_neutral/count_IBM_Jan23)\n",
    "\n",
    "#For IBM February 2023\n",
    "for index,row in IBM_Feb23.iterrows():\n",
    "    labels_IBM_Feb23.append(row['sentiment'])\n",
    "    count_IBM_Feb23 += 1\n",
    "\n",
    "#Count the Number of Positive, Negative and Neutral Labels\n",
    "num_positives = labels_IBM_Feb23.count('pos')\n",
    "num_negatives = labels_IBM_Feb23.count('neg')\n",
    "num_neutral = labels_IBM_Feb23.count('neu')\n",
    "\n",
    "#Print the Results\n",
    "print('--------------------')\n",
    "print('IBM February 2023')\n",
    "print('Positive Labels:', num_positives/count_IBM_Feb23)\n",
    "print('Negative Labels:', num_negatives/count_IBM_Feb23)\n",
    "print('Neutral Labels:', num_neutral/count_IBM_Feb23)"
   ]
  }
 ],
 "metadata": {
  "kernelspec": {
   "display_name": "Python 3 (ipykernel)",
   "language": "python",
   "name": "python3"
  },
  "language_info": {
   "codemirror_mode": {
    "name": "ipython",
    "version": 3
   },
   "file_extension": ".py",
   "mimetype": "text/x-python",
   "name": "python",
   "nbconvert_exporter": "python",
   "pygments_lexer": "ipython3",
   "version": "3.9.13"
  }
 },
 "nbformat": 4,
 "nbformat_minor": 5
}
